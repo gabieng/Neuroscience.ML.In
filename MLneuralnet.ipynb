{
  "nbformat": 4,
  "nbformat_minor": 0,
  "metadata": {
    "colab": {
      "provenance": []
    },
    "kernelspec": {
      "name": "python3",
      "display_name": "Python 3"
    },
    "language_info": {
      "name": "python"
    }
  },
  "cells": [
    {
      "cell_type": "code",
      "execution_count": null,
      "metadata": {
        "id": "Gifue_slgoqX"
      },
      "outputs": [],
      "source": [
        "import pandas as pd\n",
        "import numpy as np\n",
        "\n",
        "# leitura dos dados\n",
        "dados = pd.read_csv(\"/content/bandaalfaanalise2023semespaco.csv\", sep=';', encoding='latin-1')"
      ]
    },
    {
      "cell_type": "code",
      "source": [
        "dados.head()"
      ],
      "metadata": {
        "colab": {
          "base_uri": "https://localhost:8080/",
          "height": 270
        },
        "id": "cHfXeDNCg16i",
        "outputId": "d8f35ae8-6ef2-4c3d-df4d-647026184376"
      },
      "execution_count": null,
      "outputs": [
        {
          "output_type": "execute_result",
          "data": {
            "text/plain": [
              "   usuario Canal         Valor Banda  Etapa  Inconsistencia  QTDCRIT NATcrit  \\\n",
              "0       72   AF3  -5,667371975     A      6               1        4      CN   \n",
              "1       72    F7   2,725819296     A      6               1        4      CN   \n",
              "2       72    F3  -5,568859027     A      6               1        4      CN   \n",
              "3       72   FC5  -5,534017306     A      6               1        4      CN   \n",
              "4       72    T7  -13,06673307     A      6               1        4      CN   \n",
              "\n",
              "   QTDpergelicit  qtdInconsist  \n",
              "0              6             1  \n",
              "1              6             1  \n",
              "2              6             1  \n",
              "3              6             1  \n",
              "4              6             1  "
            ],
            "text/html": [
              "\n",
              "  <div id=\"df-68233f52-be2d-486b-9c68-145bcaeffd65\">\n",
              "    <div class=\"colab-df-container\">\n",
              "      <div>\n",
              "<style scoped>\n",
              "    .dataframe tbody tr th:only-of-type {\n",
              "        vertical-align: middle;\n",
              "    }\n",
              "\n",
              "    .dataframe tbody tr th {\n",
              "        vertical-align: top;\n",
              "    }\n",
              "\n",
              "    .dataframe thead th {\n",
              "        text-align: right;\n",
              "    }\n",
              "</style>\n",
              "<table border=\"1\" class=\"dataframe\">\n",
              "  <thead>\n",
              "    <tr style=\"text-align: right;\">\n",
              "      <th></th>\n",
              "      <th>usuario</th>\n",
              "      <th>Canal</th>\n",
              "      <th>Valor</th>\n",
              "      <th>Banda</th>\n",
              "      <th>Etapa</th>\n",
              "      <th>Inconsistencia</th>\n",
              "      <th>QTDCRIT</th>\n",
              "      <th>NATcrit</th>\n",
              "      <th>QTDpergelicit</th>\n",
              "      <th>qtdInconsist</th>\n",
              "    </tr>\n",
              "  </thead>\n",
              "  <tbody>\n",
              "    <tr>\n",
              "      <th>0</th>\n",
              "      <td>72</td>\n",
              "      <td>AF3</td>\n",
              "      <td>-5,667371975</td>\n",
              "      <td>A</td>\n",
              "      <td>6</td>\n",
              "      <td>1</td>\n",
              "      <td>4</td>\n",
              "      <td>CN</td>\n",
              "      <td>6</td>\n",
              "      <td>1</td>\n",
              "    </tr>\n",
              "    <tr>\n",
              "      <th>1</th>\n",
              "      <td>72</td>\n",
              "      <td>F7</td>\n",
              "      <td>2,725819296</td>\n",
              "      <td>A</td>\n",
              "      <td>6</td>\n",
              "      <td>1</td>\n",
              "      <td>4</td>\n",
              "      <td>CN</td>\n",
              "      <td>6</td>\n",
              "      <td>1</td>\n",
              "    </tr>\n",
              "    <tr>\n",
              "      <th>2</th>\n",
              "      <td>72</td>\n",
              "      <td>F3</td>\n",
              "      <td>-5,568859027</td>\n",
              "      <td>A</td>\n",
              "      <td>6</td>\n",
              "      <td>1</td>\n",
              "      <td>4</td>\n",
              "      <td>CN</td>\n",
              "      <td>6</td>\n",
              "      <td>1</td>\n",
              "    </tr>\n",
              "    <tr>\n",
              "      <th>3</th>\n",
              "      <td>72</td>\n",
              "      <td>FC5</td>\n",
              "      <td>-5,534017306</td>\n",
              "      <td>A</td>\n",
              "      <td>6</td>\n",
              "      <td>1</td>\n",
              "      <td>4</td>\n",
              "      <td>CN</td>\n",
              "      <td>6</td>\n",
              "      <td>1</td>\n",
              "    </tr>\n",
              "    <tr>\n",
              "      <th>4</th>\n",
              "      <td>72</td>\n",
              "      <td>T7</td>\n",
              "      <td>-13,06673307</td>\n",
              "      <td>A</td>\n",
              "      <td>6</td>\n",
              "      <td>1</td>\n",
              "      <td>4</td>\n",
              "      <td>CN</td>\n",
              "      <td>6</td>\n",
              "      <td>1</td>\n",
              "    </tr>\n",
              "  </tbody>\n",
              "</table>\n",
              "</div>\n",
              "      <button class=\"colab-df-convert\" onclick=\"convertToInteractive('df-68233f52-be2d-486b-9c68-145bcaeffd65')\"\n",
              "              title=\"Convert this dataframe to an interactive table.\"\n",
              "              style=\"display:none;\">\n",
              "        \n",
              "  <svg xmlns=\"http://www.w3.org/2000/svg\" height=\"24px\"viewBox=\"0 0 24 24\"\n",
              "       width=\"24px\">\n",
              "    <path d=\"M0 0h24v24H0V0z\" fill=\"none\"/>\n",
              "    <path d=\"M18.56 5.44l.94 2.06.94-2.06 2.06-.94-2.06-.94-.94-2.06-.94 2.06-2.06.94zm-11 1L8.5 8.5l.94-2.06 2.06-.94-2.06-.94L8.5 2.5l-.94 2.06-2.06.94zm10 10l.94 2.06.94-2.06 2.06-.94-2.06-.94-.94-2.06-.94 2.06-2.06.94z\"/><path d=\"M17.41 7.96l-1.37-1.37c-.4-.4-.92-.59-1.43-.59-.52 0-1.04.2-1.43.59L10.3 9.45l-7.72 7.72c-.78.78-.78 2.05 0 2.83L4 21.41c.39.39.9.59 1.41.59.51 0 1.02-.2 1.41-.59l7.78-7.78 2.81-2.81c.8-.78.8-2.07 0-2.86zM5.41 20L4 18.59l7.72-7.72 1.47 1.35L5.41 20z\"/>\n",
              "  </svg>\n",
              "      </button>\n",
              "      \n",
              "  <style>\n",
              "    .colab-df-container {\n",
              "      display:flex;\n",
              "      flex-wrap:wrap;\n",
              "      gap: 12px;\n",
              "    }\n",
              "\n",
              "    .colab-df-convert {\n",
              "      background-color: #E8F0FE;\n",
              "      border: none;\n",
              "      border-radius: 50%;\n",
              "      cursor: pointer;\n",
              "      display: none;\n",
              "      fill: #1967D2;\n",
              "      height: 32px;\n",
              "      padding: 0 0 0 0;\n",
              "      width: 32px;\n",
              "    }\n",
              "\n",
              "    .colab-df-convert:hover {\n",
              "      background-color: #E2EBFA;\n",
              "      box-shadow: 0px 1px 2px rgba(60, 64, 67, 0.3), 0px 1px 3px 1px rgba(60, 64, 67, 0.15);\n",
              "      fill: #174EA6;\n",
              "    }\n",
              "\n",
              "    [theme=dark] .colab-df-convert {\n",
              "      background-color: #3B4455;\n",
              "      fill: #D2E3FC;\n",
              "    }\n",
              "\n",
              "    [theme=dark] .colab-df-convert:hover {\n",
              "      background-color: #434B5C;\n",
              "      box-shadow: 0px 1px 3px 1px rgba(0, 0, 0, 0.15);\n",
              "      filter: drop-shadow(0px 1px 2px rgba(0, 0, 0, 0.3));\n",
              "      fill: #FFFFFF;\n",
              "    }\n",
              "  </style>\n",
              "\n",
              "      <script>\n",
              "        const buttonEl =\n",
              "          document.querySelector('#df-68233f52-be2d-486b-9c68-145bcaeffd65 button.colab-df-convert');\n",
              "        buttonEl.style.display =\n",
              "          google.colab.kernel.accessAllowed ? 'block' : 'none';\n",
              "\n",
              "        async function convertToInteractive(key) {\n",
              "          const element = document.querySelector('#df-68233f52-be2d-486b-9c68-145bcaeffd65');\n",
              "          const dataTable =\n",
              "            await google.colab.kernel.invokeFunction('convertToInteractive',\n",
              "                                                     [key], {});\n",
              "          if (!dataTable) return;\n",
              "\n",
              "          const docLinkHtml = 'Like what you see? Visit the ' +\n",
              "            '<a target=\"_blank\" href=https://colab.research.google.com/notebooks/data_table.ipynb>data table notebook</a>'\n",
              "            + ' to learn more about interactive tables.';\n",
              "          element.innerHTML = '';\n",
              "          dataTable['output_type'] = 'display_data';\n",
              "          await google.colab.output.renderOutput(dataTable, element);\n",
              "          const docLink = document.createElement('div');\n",
              "          docLink.innerHTML = docLinkHtml;\n",
              "          element.appendChild(docLink);\n",
              "        }\n",
              "      </script>\n",
              "    </div>\n",
              "  </div>\n",
              "  "
            ]
          },
          "metadata": {},
          "execution_count": 89
        }
      ]
    },
    {
      "cell_type": "code",
      "source": [
        "dados.dtypes"
      ],
      "metadata": {
        "colab": {
          "base_uri": "https://localhost:8080/"
        },
        "id": "asyqP02kg4c7",
        "outputId": "51d41a31-8113-4b6f-d423-dd9422406121"
      },
      "execution_count": null,
      "outputs": [
        {
          "output_type": "execute_result",
          "data": {
            "text/plain": [
              "usuario            int64\n",
              "Canal             object\n",
              "Valor             object\n",
              "Banda             object\n",
              "Etapa              int64\n",
              "Inconsistencia     int64\n",
              "QTDCRIT            int64\n",
              "NATcrit           object\n",
              "QTDpergelicit      int64\n",
              "qtdInconsist       int64\n",
              "dtype: object"
            ]
          },
          "metadata": {},
          "execution_count": 90
        }
      ]
    },
    {
      "cell_type": "code",
      "source": [
        "dados['Valor'] = dados['Valor'].str.replace(',', '.').astype(float)"
      ],
      "metadata": {
        "id": "daWwPUj8g8C6"
      },
      "execution_count": null,
      "outputs": []
    },
    {
      "cell_type": "code",
      "source": [
        "dados['Etapa'] = dados['Etapa'].astype(str)"
      ],
      "metadata": {
        "id": "d5T9LLw5hG4e"
      },
      "execution_count": null,
      "outputs": []
    },
    {
      "cell_type": "code",
      "source": [
        "#dados['Inconsistencia'] = dados['Inconsistencia'].astype(str)"
      ],
      "metadata": {
        "id": "0teDDN9HjIk4"
      },
      "execution_count": null,
      "outputs": []
    },
    {
      "cell_type": "code",
      "source": [
        "dados = dados.drop('qtdInconsist', axis=1)"
      ],
      "metadata": {
        "id": "JxaFVNT_jflM"
      },
      "execution_count": null,
      "outputs": []
    },
    {
      "cell_type": "code",
      "source": [
        "dados.head()"
      ],
      "metadata": {
        "colab": {
          "base_uri": "https://localhost:8080/",
          "height": 206
        },
        "id": "7eKKh5gFjj7L",
        "outputId": "e7a7fe09-463b-4ec2-c201-1bb691453a53"
      },
      "execution_count": null,
      "outputs": [
        {
          "output_type": "execute_result",
          "data": {
            "text/plain": [
              "   usuario Canal      Valor Banda Etapa  Inconsistencia  QTDCRIT NATcrit  \\\n",
              "0       72   AF3  -5.667372     A     6               1        4      CN   \n",
              "1       72    F7   2.725819     A     6               1        4      CN   \n",
              "2       72    F3  -5.568859     A     6               1        4      CN   \n",
              "3       72   FC5  -5.534017     A     6               1        4      CN   \n",
              "4       72    T7 -13.066733     A     6               1        4      CN   \n",
              "\n",
              "   QTDpergelicit  \n",
              "0              6  \n",
              "1              6  \n",
              "2              6  \n",
              "3              6  \n",
              "4              6  "
            ],
            "text/html": [
              "\n",
              "  <div id=\"df-11ef958d-8589-4f18-bab4-d644f06d886f\">\n",
              "    <div class=\"colab-df-container\">\n",
              "      <div>\n",
              "<style scoped>\n",
              "    .dataframe tbody tr th:only-of-type {\n",
              "        vertical-align: middle;\n",
              "    }\n",
              "\n",
              "    .dataframe tbody tr th {\n",
              "        vertical-align: top;\n",
              "    }\n",
              "\n",
              "    .dataframe thead th {\n",
              "        text-align: right;\n",
              "    }\n",
              "</style>\n",
              "<table border=\"1\" class=\"dataframe\">\n",
              "  <thead>\n",
              "    <tr style=\"text-align: right;\">\n",
              "      <th></th>\n",
              "      <th>usuario</th>\n",
              "      <th>Canal</th>\n",
              "      <th>Valor</th>\n",
              "      <th>Banda</th>\n",
              "      <th>Etapa</th>\n",
              "      <th>Inconsistencia</th>\n",
              "      <th>QTDCRIT</th>\n",
              "      <th>NATcrit</th>\n",
              "      <th>QTDpergelicit</th>\n",
              "    </tr>\n",
              "  </thead>\n",
              "  <tbody>\n",
              "    <tr>\n",
              "      <th>0</th>\n",
              "      <td>72</td>\n",
              "      <td>AF3</td>\n",
              "      <td>-5.667372</td>\n",
              "      <td>A</td>\n",
              "      <td>6</td>\n",
              "      <td>1</td>\n",
              "      <td>4</td>\n",
              "      <td>CN</td>\n",
              "      <td>6</td>\n",
              "    </tr>\n",
              "    <tr>\n",
              "      <th>1</th>\n",
              "      <td>72</td>\n",
              "      <td>F7</td>\n",
              "      <td>2.725819</td>\n",
              "      <td>A</td>\n",
              "      <td>6</td>\n",
              "      <td>1</td>\n",
              "      <td>4</td>\n",
              "      <td>CN</td>\n",
              "      <td>6</td>\n",
              "    </tr>\n",
              "    <tr>\n",
              "      <th>2</th>\n",
              "      <td>72</td>\n",
              "      <td>F3</td>\n",
              "      <td>-5.568859</td>\n",
              "      <td>A</td>\n",
              "      <td>6</td>\n",
              "      <td>1</td>\n",
              "      <td>4</td>\n",
              "      <td>CN</td>\n",
              "      <td>6</td>\n",
              "    </tr>\n",
              "    <tr>\n",
              "      <th>3</th>\n",
              "      <td>72</td>\n",
              "      <td>FC5</td>\n",
              "      <td>-5.534017</td>\n",
              "      <td>A</td>\n",
              "      <td>6</td>\n",
              "      <td>1</td>\n",
              "      <td>4</td>\n",
              "      <td>CN</td>\n",
              "      <td>6</td>\n",
              "    </tr>\n",
              "    <tr>\n",
              "      <th>4</th>\n",
              "      <td>72</td>\n",
              "      <td>T7</td>\n",
              "      <td>-13.066733</td>\n",
              "      <td>A</td>\n",
              "      <td>6</td>\n",
              "      <td>1</td>\n",
              "      <td>4</td>\n",
              "      <td>CN</td>\n",
              "      <td>6</td>\n",
              "    </tr>\n",
              "  </tbody>\n",
              "</table>\n",
              "</div>\n",
              "      <button class=\"colab-df-convert\" onclick=\"convertToInteractive('df-11ef958d-8589-4f18-bab4-d644f06d886f')\"\n",
              "              title=\"Convert this dataframe to an interactive table.\"\n",
              "              style=\"display:none;\">\n",
              "        \n",
              "  <svg xmlns=\"http://www.w3.org/2000/svg\" height=\"24px\"viewBox=\"0 0 24 24\"\n",
              "       width=\"24px\">\n",
              "    <path d=\"M0 0h24v24H0V0z\" fill=\"none\"/>\n",
              "    <path d=\"M18.56 5.44l.94 2.06.94-2.06 2.06-.94-2.06-.94-.94-2.06-.94 2.06-2.06.94zm-11 1L8.5 8.5l.94-2.06 2.06-.94-2.06-.94L8.5 2.5l-.94 2.06-2.06.94zm10 10l.94 2.06.94-2.06 2.06-.94-2.06-.94-.94-2.06-.94 2.06-2.06.94z\"/><path d=\"M17.41 7.96l-1.37-1.37c-.4-.4-.92-.59-1.43-.59-.52 0-1.04.2-1.43.59L10.3 9.45l-7.72 7.72c-.78.78-.78 2.05 0 2.83L4 21.41c.39.39.9.59 1.41.59.51 0 1.02-.2 1.41-.59l7.78-7.78 2.81-2.81c.8-.78.8-2.07 0-2.86zM5.41 20L4 18.59l7.72-7.72 1.47 1.35L5.41 20z\"/>\n",
              "  </svg>\n",
              "      </button>\n",
              "      \n",
              "  <style>\n",
              "    .colab-df-container {\n",
              "      display:flex;\n",
              "      flex-wrap:wrap;\n",
              "      gap: 12px;\n",
              "    }\n",
              "\n",
              "    .colab-df-convert {\n",
              "      background-color: #E8F0FE;\n",
              "      border: none;\n",
              "      border-radius: 50%;\n",
              "      cursor: pointer;\n",
              "      display: none;\n",
              "      fill: #1967D2;\n",
              "      height: 32px;\n",
              "      padding: 0 0 0 0;\n",
              "      width: 32px;\n",
              "    }\n",
              "\n",
              "    .colab-df-convert:hover {\n",
              "      background-color: #E2EBFA;\n",
              "      box-shadow: 0px 1px 2px rgba(60, 64, 67, 0.3), 0px 1px 3px 1px rgba(60, 64, 67, 0.15);\n",
              "      fill: #174EA6;\n",
              "    }\n",
              "\n",
              "    [theme=dark] .colab-df-convert {\n",
              "      background-color: #3B4455;\n",
              "      fill: #D2E3FC;\n",
              "    }\n",
              "\n",
              "    [theme=dark] .colab-df-convert:hover {\n",
              "      background-color: #434B5C;\n",
              "      box-shadow: 0px 1px 3px 1px rgba(0, 0, 0, 0.15);\n",
              "      filter: drop-shadow(0px 1px 2px rgba(0, 0, 0, 0.3));\n",
              "      fill: #FFFFFF;\n",
              "    }\n",
              "  </style>\n",
              "\n",
              "      <script>\n",
              "        const buttonEl =\n",
              "          document.querySelector('#df-11ef958d-8589-4f18-bab4-d644f06d886f button.colab-df-convert');\n",
              "        buttonEl.style.display =\n",
              "          google.colab.kernel.accessAllowed ? 'block' : 'none';\n",
              "\n",
              "        async function convertToInteractive(key) {\n",
              "          const element = document.querySelector('#df-11ef958d-8589-4f18-bab4-d644f06d886f');\n",
              "          const dataTable =\n",
              "            await google.colab.kernel.invokeFunction('convertToInteractive',\n",
              "                                                     [key], {});\n",
              "          if (!dataTable) return;\n",
              "\n",
              "          const docLinkHtml = 'Like what you see? Visit the ' +\n",
              "            '<a target=\"_blank\" href=https://colab.research.google.com/notebooks/data_table.ipynb>data table notebook</a>'\n",
              "            + ' to learn more about interactive tables.';\n",
              "          element.innerHTML = '';\n",
              "          dataTable['output_type'] = 'display_data';\n",
              "          await google.colab.output.renderOutput(dataTable, element);\n",
              "          const docLink = document.createElement('div');\n",
              "          docLink.innerHTML = docLinkHtml;\n",
              "          element.appendChild(docLink);\n",
              "        }\n",
              "      </script>\n",
              "    </div>\n",
              "  </div>\n",
              "  "
            ]
          },
          "metadata": {},
          "execution_count": 94
        }
      ]
    },
    {
      "cell_type": "code",
      "source": [
        "dados.dtypes"
      ],
      "metadata": {
        "colab": {
          "base_uri": "https://localhost:8080/"
        },
        "id": "YNq_iT7Dj0Pj",
        "outputId": "145b2cf3-a662-4d6e-d91f-f0dba921fec9"
      },
      "execution_count": null,
      "outputs": [
        {
          "output_type": "execute_result",
          "data": {
            "text/plain": [
              "usuario             int64\n",
              "Canal              object\n",
              "Valor             float64\n",
              "Banda              object\n",
              "Etapa              object\n",
              "Inconsistencia      int64\n",
              "QTDCRIT             int64\n",
              "NATcrit            object\n",
              "QTDpergelicit       int64\n",
              "dtype: object"
            ]
          },
          "metadata": {},
          "execution_count": 95
        }
      ]
    },
    {
      "cell_type": "code",
      "source": [
        "dados = pd.get_dummies(dados, columns=['Canal', 'Banda', 'Etapa', 'NATcrit'])"
      ],
      "metadata": {
        "id": "xX_Eji_EkN5o"
      },
      "execution_count": null,
      "outputs": []
    },
    {
      "cell_type": "code",
      "source": [
        "dados.head()"
      ],
      "metadata": {
        "colab": {
          "base_uri": "https://localhost:8080/",
          "height": 299
        },
        "id": "BMTvLTVJkULB",
        "outputId": "692ee82f-8d72-4a5c-dcef-24ee3ae65797"
      },
      "execution_count": null,
      "outputs": [
        {
          "output_type": "execute_result",
          "data": {
            "text/plain": [
              "   usuario      Valor  Inconsistencia  QTDCRIT  QTDpergelicit  Canal_AF3  \\\n",
              "0       72  -5.667372               1        4              6          1   \n",
              "1       72   2.725819               1        4              6          0   \n",
              "2       72  -5.568859               1        4              6          0   \n",
              "3       72  -5.534017               1        4              6          0   \n",
              "4       72 -13.066733               1        4              6          0   \n",
              "\n",
              "   Canal_AF4  Canal_F3  Canal_F4  Canal_F7  ...  Banda_A  Etapa_1  Etapa_2  \\\n",
              "0          0         0         0         0  ...        1        0        0   \n",
              "1          0         0         0         1  ...        1        0        0   \n",
              "2          0         1         0         0  ...        1        0        0   \n",
              "3          0         0         0         0  ...        1        0        0   \n",
              "4          0         0         0         0  ...        1        0        0   \n",
              "\n",
              "   Etapa_3  Etapa_4  Etapa_5  Etapa_6  NATcrit_C  NATcrit_CN  NATcrit_N  \n",
              "0        0        0        0        1          0           1          0  \n",
              "1        0        0        0        1          0           1          0  \n",
              "2        0        0        0        1          0           1          0  \n",
              "3        0        0        0        1          0           1          0  \n",
              "4        0        0        0        1          0           1          0  \n",
              "\n",
              "[5 rows x 29 columns]"
            ],
            "text/html": [
              "\n",
              "  <div id=\"df-8c44c0bb-47f6-4ed2-a562-c5ead584e944\">\n",
              "    <div class=\"colab-df-container\">\n",
              "      <div>\n",
              "<style scoped>\n",
              "    .dataframe tbody tr th:only-of-type {\n",
              "        vertical-align: middle;\n",
              "    }\n",
              "\n",
              "    .dataframe tbody tr th {\n",
              "        vertical-align: top;\n",
              "    }\n",
              "\n",
              "    .dataframe thead th {\n",
              "        text-align: right;\n",
              "    }\n",
              "</style>\n",
              "<table border=\"1\" class=\"dataframe\">\n",
              "  <thead>\n",
              "    <tr style=\"text-align: right;\">\n",
              "      <th></th>\n",
              "      <th>usuario</th>\n",
              "      <th>Valor</th>\n",
              "      <th>Inconsistencia</th>\n",
              "      <th>QTDCRIT</th>\n",
              "      <th>QTDpergelicit</th>\n",
              "      <th>Canal_AF3</th>\n",
              "      <th>Canal_AF4</th>\n",
              "      <th>Canal_F3</th>\n",
              "      <th>Canal_F4</th>\n",
              "      <th>Canal_F7</th>\n",
              "      <th>...</th>\n",
              "      <th>Banda_A</th>\n",
              "      <th>Etapa_1</th>\n",
              "      <th>Etapa_2</th>\n",
              "      <th>Etapa_3</th>\n",
              "      <th>Etapa_4</th>\n",
              "      <th>Etapa_5</th>\n",
              "      <th>Etapa_6</th>\n",
              "      <th>NATcrit_C</th>\n",
              "      <th>NATcrit_CN</th>\n",
              "      <th>NATcrit_N</th>\n",
              "    </tr>\n",
              "  </thead>\n",
              "  <tbody>\n",
              "    <tr>\n",
              "      <th>0</th>\n",
              "      <td>72</td>\n",
              "      <td>-5.667372</td>\n",
              "      <td>1</td>\n",
              "      <td>4</td>\n",
              "      <td>6</td>\n",
              "      <td>1</td>\n",
              "      <td>0</td>\n",
              "      <td>0</td>\n",
              "      <td>0</td>\n",
              "      <td>0</td>\n",
              "      <td>...</td>\n",
              "      <td>1</td>\n",
              "      <td>0</td>\n",
              "      <td>0</td>\n",
              "      <td>0</td>\n",
              "      <td>0</td>\n",
              "      <td>0</td>\n",
              "      <td>1</td>\n",
              "      <td>0</td>\n",
              "      <td>1</td>\n",
              "      <td>0</td>\n",
              "    </tr>\n",
              "    <tr>\n",
              "      <th>1</th>\n",
              "      <td>72</td>\n",
              "      <td>2.725819</td>\n",
              "      <td>1</td>\n",
              "      <td>4</td>\n",
              "      <td>6</td>\n",
              "      <td>0</td>\n",
              "      <td>0</td>\n",
              "      <td>0</td>\n",
              "      <td>0</td>\n",
              "      <td>1</td>\n",
              "      <td>...</td>\n",
              "      <td>1</td>\n",
              "      <td>0</td>\n",
              "      <td>0</td>\n",
              "      <td>0</td>\n",
              "      <td>0</td>\n",
              "      <td>0</td>\n",
              "      <td>1</td>\n",
              "      <td>0</td>\n",
              "      <td>1</td>\n",
              "      <td>0</td>\n",
              "    </tr>\n",
              "    <tr>\n",
              "      <th>2</th>\n",
              "      <td>72</td>\n",
              "      <td>-5.568859</td>\n",
              "      <td>1</td>\n",
              "      <td>4</td>\n",
              "      <td>6</td>\n",
              "      <td>0</td>\n",
              "      <td>0</td>\n",
              "      <td>1</td>\n",
              "      <td>0</td>\n",
              "      <td>0</td>\n",
              "      <td>...</td>\n",
              "      <td>1</td>\n",
              "      <td>0</td>\n",
              "      <td>0</td>\n",
              "      <td>0</td>\n",
              "      <td>0</td>\n",
              "      <td>0</td>\n",
              "      <td>1</td>\n",
              "      <td>0</td>\n",
              "      <td>1</td>\n",
              "      <td>0</td>\n",
              "    </tr>\n",
              "    <tr>\n",
              "      <th>3</th>\n",
              "      <td>72</td>\n",
              "      <td>-5.534017</td>\n",
              "      <td>1</td>\n",
              "      <td>4</td>\n",
              "      <td>6</td>\n",
              "      <td>0</td>\n",
              "      <td>0</td>\n",
              "      <td>0</td>\n",
              "      <td>0</td>\n",
              "      <td>0</td>\n",
              "      <td>...</td>\n",
              "      <td>1</td>\n",
              "      <td>0</td>\n",
              "      <td>0</td>\n",
              "      <td>0</td>\n",
              "      <td>0</td>\n",
              "      <td>0</td>\n",
              "      <td>1</td>\n",
              "      <td>0</td>\n",
              "      <td>1</td>\n",
              "      <td>0</td>\n",
              "    </tr>\n",
              "    <tr>\n",
              "      <th>4</th>\n",
              "      <td>72</td>\n",
              "      <td>-13.066733</td>\n",
              "      <td>1</td>\n",
              "      <td>4</td>\n",
              "      <td>6</td>\n",
              "      <td>0</td>\n",
              "      <td>0</td>\n",
              "      <td>0</td>\n",
              "      <td>0</td>\n",
              "      <td>0</td>\n",
              "      <td>...</td>\n",
              "      <td>1</td>\n",
              "      <td>0</td>\n",
              "      <td>0</td>\n",
              "      <td>0</td>\n",
              "      <td>0</td>\n",
              "      <td>0</td>\n",
              "      <td>1</td>\n",
              "      <td>0</td>\n",
              "      <td>1</td>\n",
              "      <td>0</td>\n",
              "    </tr>\n",
              "  </tbody>\n",
              "</table>\n",
              "<p>5 rows × 29 columns</p>\n",
              "</div>\n",
              "      <button class=\"colab-df-convert\" onclick=\"convertToInteractive('df-8c44c0bb-47f6-4ed2-a562-c5ead584e944')\"\n",
              "              title=\"Convert this dataframe to an interactive table.\"\n",
              "              style=\"display:none;\">\n",
              "        \n",
              "  <svg xmlns=\"http://www.w3.org/2000/svg\" height=\"24px\"viewBox=\"0 0 24 24\"\n",
              "       width=\"24px\">\n",
              "    <path d=\"M0 0h24v24H0V0z\" fill=\"none\"/>\n",
              "    <path d=\"M18.56 5.44l.94 2.06.94-2.06 2.06-.94-2.06-.94-.94-2.06-.94 2.06-2.06.94zm-11 1L8.5 8.5l.94-2.06 2.06-.94-2.06-.94L8.5 2.5l-.94 2.06-2.06.94zm10 10l.94 2.06.94-2.06 2.06-.94-2.06-.94-.94-2.06-.94 2.06-2.06.94z\"/><path d=\"M17.41 7.96l-1.37-1.37c-.4-.4-.92-.59-1.43-.59-.52 0-1.04.2-1.43.59L10.3 9.45l-7.72 7.72c-.78.78-.78 2.05 0 2.83L4 21.41c.39.39.9.59 1.41.59.51 0 1.02-.2 1.41-.59l7.78-7.78 2.81-2.81c.8-.78.8-2.07 0-2.86zM5.41 20L4 18.59l7.72-7.72 1.47 1.35L5.41 20z\"/>\n",
              "  </svg>\n",
              "      </button>\n",
              "      \n",
              "  <style>\n",
              "    .colab-df-container {\n",
              "      display:flex;\n",
              "      flex-wrap:wrap;\n",
              "      gap: 12px;\n",
              "    }\n",
              "\n",
              "    .colab-df-convert {\n",
              "      background-color: #E8F0FE;\n",
              "      border: none;\n",
              "      border-radius: 50%;\n",
              "      cursor: pointer;\n",
              "      display: none;\n",
              "      fill: #1967D2;\n",
              "      height: 32px;\n",
              "      padding: 0 0 0 0;\n",
              "      width: 32px;\n",
              "    }\n",
              "\n",
              "    .colab-df-convert:hover {\n",
              "      background-color: #E2EBFA;\n",
              "      box-shadow: 0px 1px 2px rgba(60, 64, 67, 0.3), 0px 1px 3px 1px rgba(60, 64, 67, 0.15);\n",
              "      fill: #174EA6;\n",
              "    }\n",
              "\n",
              "    [theme=dark] .colab-df-convert {\n",
              "      background-color: #3B4455;\n",
              "      fill: #D2E3FC;\n",
              "    }\n",
              "\n",
              "    [theme=dark] .colab-df-convert:hover {\n",
              "      background-color: #434B5C;\n",
              "      box-shadow: 0px 1px 3px 1px rgba(0, 0, 0, 0.15);\n",
              "      filter: drop-shadow(0px 1px 2px rgba(0, 0, 0, 0.3));\n",
              "      fill: #FFFFFF;\n",
              "    }\n",
              "  </style>\n",
              "\n",
              "      <script>\n",
              "        const buttonEl =\n",
              "          document.querySelector('#df-8c44c0bb-47f6-4ed2-a562-c5ead584e944 button.colab-df-convert');\n",
              "        buttonEl.style.display =\n",
              "          google.colab.kernel.accessAllowed ? 'block' : 'none';\n",
              "\n",
              "        async function convertToInteractive(key) {\n",
              "          const element = document.querySelector('#df-8c44c0bb-47f6-4ed2-a562-c5ead584e944');\n",
              "          const dataTable =\n",
              "            await google.colab.kernel.invokeFunction('convertToInteractive',\n",
              "                                                     [key], {});\n",
              "          if (!dataTable) return;\n",
              "\n",
              "          const docLinkHtml = 'Like what you see? Visit the ' +\n",
              "            '<a target=\"_blank\" href=https://colab.research.google.com/notebooks/data_table.ipynb>data table notebook</a>'\n",
              "            + ' to learn more about interactive tables.';\n",
              "          element.innerHTML = '';\n",
              "          dataTable['output_type'] = 'display_data';\n",
              "          await google.colab.output.renderOutput(dataTable, element);\n",
              "          const docLink = document.createElement('div');\n",
              "          docLink.innerHTML = docLinkHtml;\n",
              "          element.appendChild(docLink);\n",
              "        }\n",
              "      </script>\n",
              "    </div>\n",
              "  </div>\n",
              "  "
            ]
          },
          "metadata": {},
          "execution_count": 97
        }
      ]
    },
    {
      "cell_type": "code",
      "source": [
        "# 1-RandomForestClassifier"
      ],
      "metadata": {
        "id": "p8RPctLmBEAJ"
      },
      "execution_count": null,
      "outputs": []
    },
    {
      "cell_type": "code",
      "source": [
        "from sklearn.model_selection import train_test_split\n",
        "from sklearn.ensemble import RandomForestClassifier\n",
        "from sklearn.metrics import precision_score, recall_score, f1_score, roc_auc_score, accuracy_score, confusion_matrix"
      ],
      "metadata": {
        "id": "FRH-2Rn9lHuG"
      },
      "execution_count": null,
      "outputs": []
    },
    {
      "cell_type": "code",
      "source": [
        "dados = dados.drop('usuario', axis=1)"
      ],
      "metadata": {
        "id": "YuAXGzmsnPD9"
      },
      "execution_count": null,
      "outputs": []
    },
    {
      "cell_type": "code",
      "source": [
        "# dividir os dados em conjunto de treinamento e teste\n",
        "X = dados.drop(['Inconsistencia'], axis=1)\n",
        "y = dados['Inconsistencia']\n",
        "X_train, X_test, y_train, y_test = train_test_split(X, y, test_size=0.2, random_state=42)"
      ],
      "metadata": {
        "id": "rIYfPH5tlJZ0"
      },
      "execution_count": null,
      "outputs": []
    },
    {
      "cell_type": "code",
      "source": [
        "# selecionar modelo\n",
        "clf = RandomForestClassifier(n_estimators=100, max_depth=10, random_state=42)\n",
        "\n",
        "# treinar modelo\n",
        "clf.fit(X_train, y_train)"
      ],
      "metadata": {
        "colab": {
          "base_uri": "https://localhost:8080/",
          "height": 74
        },
        "id": "7OrJHDIil5E1",
        "outputId": "050864d7-0c6f-4f87-916d-fd0ecccf9603"
      },
      "execution_count": null,
      "outputs": [
        {
          "output_type": "execute_result",
          "data": {
            "text/plain": [
              "RandomForestClassifier(max_depth=10, random_state=42)"
            ],
            "text/html": [
              "<style>#sk-container-id-6 {color: black;background-color: white;}#sk-container-id-6 pre{padding: 0;}#sk-container-id-6 div.sk-toggleable {background-color: white;}#sk-container-id-6 label.sk-toggleable__label {cursor: pointer;display: block;width: 100%;margin-bottom: 0;padding: 0.3em;box-sizing: border-box;text-align: center;}#sk-container-id-6 label.sk-toggleable__label-arrow:before {content: \"▸\";float: left;margin-right: 0.25em;color: #696969;}#sk-container-id-6 label.sk-toggleable__label-arrow:hover:before {color: black;}#sk-container-id-6 div.sk-estimator:hover label.sk-toggleable__label-arrow:before {color: black;}#sk-container-id-6 div.sk-toggleable__content {max-height: 0;max-width: 0;overflow: hidden;text-align: left;background-color: #f0f8ff;}#sk-container-id-6 div.sk-toggleable__content pre {margin: 0.2em;color: black;border-radius: 0.25em;background-color: #f0f8ff;}#sk-container-id-6 input.sk-toggleable__control:checked~div.sk-toggleable__content {max-height: 200px;max-width: 100%;overflow: auto;}#sk-container-id-6 input.sk-toggleable__control:checked~label.sk-toggleable__label-arrow:before {content: \"▾\";}#sk-container-id-6 div.sk-estimator input.sk-toggleable__control:checked~label.sk-toggleable__label {background-color: #d4ebff;}#sk-container-id-6 div.sk-label input.sk-toggleable__control:checked~label.sk-toggleable__label {background-color: #d4ebff;}#sk-container-id-6 input.sk-hidden--visually {border: 0;clip: rect(1px 1px 1px 1px);clip: rect(1px, 1px, 1px, 1px);height: 1px;margin: -1px;overflow: hidden;padding: 0;position: absolute;width: 1px;}#sk-container-id-6 div.sk-estimator {font-family: monospace;background-color: #f0f8ff;border: 1px dotted black;border-radius: 0.25em;box-sizing: border-box;margin-bottom: 0.5em;}#sk-container-id-6 div.sk-estimator:hover {background-color: #d4ebff;}#sk-container-id-6 div.sk-parallel-item::after {content: \"\";width: 100%;border-bottom: 1px solid gray;flex-grow: 1;}#sk-container-id-6 div.sk-label:hover label.sk-toggleable__label {background-color: #d4ebff;}#sk-container-id-6 div.sk-serial::before {content: \"\";position: absolute;border-left: 1px solid gray;box-sizing: border-box;top: 0;bottom: 0;left: 50%;z-index: 0;}#sk-container-id-6 div.sk-serial {display: flex;flex-direction: column;align-items: center;background-color: white;padding-right: 0.2em;padding-left: 0.2em;position: relative;}#sk-container-id-6 div.sk-item {position: relative;z-index: 1;}#sk-container-id-6 div.sk-parallel {display: flex;align-items: stretch;justify-content: center;background-color: white;position: relative;}#sk-container-id-6 div.sk-item::before, #sk-container-id-6 div.sk-parallel-item::before {content: \"\";position: absolute;border-left: 1px solid gray;box-sizing: border-box;top: 0;bottom: 0;left: 50%;z-index: -1;}#sk-container-id-6 div.sk-parallel-item {display: flex;flex-direction: column;z-index: 1;position: relative;background-color: white;}#sk-container-id-6 div.sk-parallel-item:first-child::after {align-self: flex-end;width: 50%;}#sk-container-id-6 div.sk-parallel-item:last-child::after {align-self: flex-start;width: 50%;}#sk-container-id-6 div.sk-parallel-item:only-child::after {width: 0;}#sk-container-id-6 div.sk-dashed-wrapped {border: 1px dashed gray;margin: 0 0.4em 0.5em 0.4em;box-sizing: border-box;padding-bottom: 0.4em;background-color: white;}#sk-container-id-6 div.sk-label label {font-family: monospace;font-weight: bold;display: inline-block;line-height: 1.2em;}#sk-container-id-6 div.sk-label-container {text-align: center;}#sk-container-id-6 div.sk-container {/* jupyter's `normalize.less` sets `[hidden] { display: none; }` but bootstrap.min.css set `[hidden] { display: none !important; }` so we also need the `!important` here to be able to override the default hidden behavior on the sphinx rendered scikit-learn.org. See: https://github.com/scikit-learn/scikit-learn/issues/21755 */display: inline-block !important;position: relative;}#sk-container-id-6 div.sk-text-repr-fallback {display: none;}</style><div id=\"sk-container-id-6\" class=\"sk-top-container\"><div class=\"sk-text-repr-fallback\"><pre>RandomForestClassifier(max_depth=10, random_state=42)</pre><b>In a Jupyter environment, please rerun this cell to show the HTML representation or trust the notebook. <br />On GitHub, the HTML representation is unable to render, please try loading this page with nbviewer.org.</b></div><div class=\"sk-container\" hidden><div class=\"sk-item\"><div class=\"sk-estimator sk-toggleable\"><input class=\"sk-toggleable__control sk-hidden--visually\" id=\"sk-estimator-id-6\" type=\"checkbox\" checked><label for=\"sk-estimator-id-6\" class=\"sk-toggleable__label sk-toggleable__label-arrow\">RandomForestClassifier</label><div class=\"sk-toggleable__content\"><pre>RandomForestClassifier(max_depth=10, random_state=42)</pre></div></div></div></div></div>"
            ]
          },
          "metadata": {},
          "execution_count": 101
        }
      ]
    },
    {
      "cell_type": "code",
      "source": [
        "# avaliar desempenho do modelo\n",
        "y_pred = clf.predict(X_test)\n",
        "y_pred_prob = clf.predict_proba(X_test)[:, 1]"
      ],
      "metadata": {
        "id": "QK7i8xUUqClq"
      },
      "execution_count": null,
      "outputs": []
    },
    {
      "cell_type": "code",
      "source": [
        "# avaliar desempenho do modelo\n",
        "y_pred = clf.predict(X_test)\n",
        "print(\"Precisão:\", precision_score(y_test, y_pred))\n",
        "print(\"Recall:\", recall_score(y_test, y_pred))\n",
        "print(\"F1-score:\", f1_score(y_test, y_pred))\n",
        "print(\"AUC-ROC:\", roc_auc_score(y_test, y_pred_prob))\n",
        "print(\"Acurácia:\", accuracy_score(y_test, y_pred))\n",
        "print(\"Matriz de Confusão:\")\n",
        "print(confusion_matrix(y_test, y_pred))"
      ],
      "metadata": {
        "colab": {
          "base_uri": "https://localhost:8080/"
        },
        "id": "SH6qkk_XmB3T",
        "outputId": "830fabc8-69c5-4980-c1db-a9932b32607c"
      },
      "execution_count": null,
      "outputs": [
        {
          "output_type": "stream",
          "name": "stdout",
          "text": [
            "Precisão: 0.8747591522157996\n",
            "Recall: 0.9438669438669439\n",
            "F1-score: 0.9079999999999999\n",
            "AUC-ROC: 0.9611948248311885\n",
            "Acurácia: 0.8727524204702628\n",
            "Matriz de Confusão:\n",
            "[[177  65]\n",
            " [ 27 454]]\n"
          ]
        }
      ]
    },
    {
      "cell_type": "code",
      "source": [],
      "metadata": {
        "id": "tY0EYIuml9RH"
      },
      "execution_count": null,
      "outputs": []
    },
    {
      "cell_type": "code",
      "source": [
        "from sklearn.ensemble import RandomForestRegressor\n",
        "\n",
        "# separar o dataframe em features e target\n",
        "X = dados.drop(['Inconsistencia'], axis=1)\n",
        "y = dados['Inconsistencia']"
      ],
      "metadata": {
        "id": "98VqJNVFmgA6"
      },
      "execution_count": null,
      "outputs": []
    },
    {
      "cell_type": "code",
      "source": [
        "# treinar o modelo\n",
        "model = RandomForestRegressor()\n",
        "model.fit(X, y)\n",
        "\n",
        "# obter as importâncias das features\n",
        "importances = model.feature_importances_\n"
      ],
      "metadata": {
        "id": "7ou_CGZ-mqvt"
      },
      "execution_count": null,
      "outputs": []
    },
    {
      "cell_type": "code",
      "source": [
        "# criar um dataframe com as importâncias das features\n",
        "feature_importances = pd.DataFrame({'feature': X.columns, 'importance': importances})\n",
        "\n",
        "# ordenar as features por importância\n",
        "feature_importances = feature_importances.sort_values('importance', ascending=False)\n",
        "\n",
        "# imprimir as 10 features mais importantes\n",
        "print(feature_importances.head(10))"
      ],
      "metadata": {
        "colab": {
          "base_uri": "https://localhost:8080/"
        },
        "id": "kyg-uB7fmu_w",
        "outputId": "d6bd1313-5f0c-4dae-89e2-686187c4acd1"
      },
      "execution_count": null,
      "outputs": [
        {
          "output_type": "stream",
          "name": "stdout",
          "text": [
            "          feature  importance\n",
            "2   QTDpergelicit    0.384240\n",
            "1         QTDCRIT    0.299907\n",
            "0           Valor    0.100185\n",
            "26      NATcrit_N    0.064700\n",
            "25     NATcrit_CN    0.031465\n",
            "22        Etapa_5    0.030443\n",
            "18        Etapa_1    0.007210\n",
            "23        Etapa_6    0.006893\n",
            "21        Etapa_4    0.006023\n",
            "19        Etapa_2    0.005852\n"
          ]
        }
      ]
    },
    {
      "cell_type": "code",
      "source": [
        "#  2- KNN KNeighborsClassifier"
      ],
      "metadata": {
        "id": "4InpvBEwrjdN"
      },
      "execution_count": null,
      "outputs": []
    },
    {
      "cell_type": "code",
      "source": [
        "from sklearn.model_selection import train_test_split\n",
        "from sklearn.neighbors import KNeighborsClassifier\n",
        "#from sklearn.metrics import accuracy_score, confusion_matrix\n",
        "#from sklearn.metrics import precision_score, recall_score, f1_score, roc_auc_score"
      ],
      "metadata": {
        "id": "Myv8BVf8rntV"
      },
      "execution_count": null,
      "outputs": []
    },
    {
      "cell_type": "code",
      "source": [
        "# dividir os dados em conjunto de treinamento e teste\n",
        "X = dados.drop(['Inconsistencia'], axis=1)\n",
        "y = dados['Inconsistencia']\n",
        "\n",
        "X_train, X_test, y_train, y_test = train_test_split(X, y, test_size=0.2, random_state=42)\n"
      ],
      "metadata": {
        "id": "tP456F9qrvCD"
      },
      "execution_count": null,
      "outputs": []
    },
    {
      "cell_type": "code",
      "source": [
        "# selecionar modelo\n",
        "clf = KNeighborsClassifier(n_neighbors=5)\n",
        "\n",
        "# treinar modelo\n",
        "clf.fit(X_train, y_train)\n",
        "\n",
        "# avaliar desempenho do modelo\n",
        "y_pred = clf.predict(X_test)\n",
        "y_pred_prob = clf.predict_proba(X_test)[:, 1]\n",
        "\n",
        "# avaliar desempenho do modelo\n",
        "\n",
        "y_pred = clf.predict(X_test)\n",
        "print(\"Precisão:\", precision_score(y_test, y_pred))\n",
        "print(\"Recall:\", recall_score(y_test, y_pred))\n",
        "print(\"F1-score:\", f1_score(y_test, y_pred))\n",
        "print(\"AUC-ROC:\", roc_auc_score(y_test, y_pred_prob))\n",
        "print(\"Acurácia:\", accuracy_score(y_test, y_pred))\n",
        "print(\"Matriz de Confusão:\")\n",
        "print(confusion_matrix(y_test, y_pred))"
      ],
      "metadata": {
        "colab": {
          "base_uri": "https://localhost:8080/"
        },
        "id": "-8sE-Jayr5Mh",
        "outputId": "6bac6fb2-15cd-4e98-8d6f-4f10b9ac5195"
      },
      "execution_count": null,
      "outputs": [
        {
          "output_type": "stream",
          "name": "stdout",
          "text": [
            "Precisão: 0.9090909090909091\n",
            "Recall: 0.9355509355509356\n",
            "F1-score: 0.9221311475409837\n",
            "AUC-ROC: 0.954923454923455\n",
            "Acurácia: 0.8948824343015215\n",
            "Matriz de Confusão:\n",
            "[[197  45]\n",
            " [ 31 450]]\n"
          ]
        }
      ]
    },
    {
      "cell_type": "code",
      "source": [
        "# 3- decision tree"
      ],
      "metadata": {
        "id": "3yRzkoelsB18"
      },
      "execution_count": null,
      "outputs": []
    },
    {
      "cell_type": "code",
      "source": [
        "from sklearn.tree import DecisionTreeClassifier"
      ],
      "metadata": {
        "id": "rFm9xHLCsFv8"
      },
      "execution_count": null,
      "outputs": []
    },
    {
      "cell_type": "code",
      "source": [
        "# selecionar modelo\n",
        "clf = DecisionTreeClassifier(random_state=42)\n",
        "\n",
        "# treinar modelo\n",
        "clf.fit(X_train, y_train)"
      ],
      "metadata": {
        "colab": {
          "base_uri": "https://localhost:8080/",
          "height": 74
        },
        "id": "5EuUqgwXsIsk",
        "outputId": "ab50af3b-e7e6-4e0f-b54c-fedc266e4558"
      },
      "execution_count": null,
      "outputs": [
        {
          "output_type": "execute_result",
          "data": {
            "text/plain": [
              "DecisionTreeClassifier(random_state=42)"
            ],
            "text/html": [
              "<style>#sk-container-id-7 {color: black;background-color: white;}#sk-container-id-7 pre{padding: 0;}#sk-container-id-7 div.sk-toggleable {background-color: white;}#sk-container-id-7 label.sk-toggleable__label {cursor: pointer;display: block;width: 100%;margin-bottom: 0;padding: 0.3em;box-sizing: border-box;text-align: center;}#sk-container-id-7 label.sk-toggleable__label-arrow:before {content: \"▸\";float: left;margin-right: 0.25em;color: #696969;}#sk-container-id-7 label.sk-toggleable__label-arrow:hover:before {color: black;}#sk-container-id-7 div.sk-estimator:hover label.sk-toggleable__label-arrow:before {color: black;}#sk-container-id-7 div.sk-toggleable__content {max-height: 0;max-width: 0;overflow: hidden;text-align: left;background-color: #f0f8ff;}#sk-container-id-7 div.sk-toggleable__content pre {margin: 0.2em;color: black;border-radius: 0.25em;background-color: #f0f8ff;}#sk-container-id-7 input.sk-toggleable__control:checked~div.sk-toggleable__content {max-height: 200px;max-width: 100%;overflow: auto;}#sk-container-id-7 input.sk-toggleable__control:checked~label.sk-toggleable__label-arrow:before {content: \"▾\";}#sk-container-id-7 div.sk-estimator input.sk-toggleable__control:checked~label.sk-toggleable__label {background-color: #d4ebff;}#sk-container-id-7 div.sk-label input.sk-toggleable__control:checked~label.sk-toggleable__label {background-color: #d4ebff;}#sk-container-id-7 input.sk-hidden--visually {border: 0;clip: rect(1px 1px 1px 1px);clip: rect(1px, 1px, 1px, 1px);height: 1px;margin: -1px;overflow: hidden;padding: 0;position: absolute;width: 1px;}#sk-container-id-7 div.sk-estimator {font-family: monospace;background-color: #f0f8ff;border: 1px dotted black;border-radius: 0.25em;box-sizing: border-box;margin-bottom: 0.5em;}#sk-container-id-7 div.sk-estimator:hover {background-color: #d4ebff;}#sk-container-id-7 div.sk-parallel-item::after {content: \"\";width: 100%;border-bottom: 1px solid gray;flex-grow: 1;}#sk-container-id-7 div.sk-label:hover label.sk-toggleable__label {background-color: #d4ebff;}#sk-container-id-7 div.sk-serial::before {content: \"\";position: absolute;border-left: 1px solid gray;box-sizing: border-box;top: 0;bottom: 0;left: 50%;z-index: 0;}#sk-container-id-7 div.sk-serial {display: flex;flex-direction: column;align-items: center;background-color: white;padding-right: 0.2em;padding-left: 0.2em;position: relative;}#sk-container-id-7 div.sk-item {position: relative;z-index: 1;}#sk-container-id-7 div.sk-parallel {display: flex;align-items: stretch;justify-content: center;background-color: white;position: relative;}#sk-container-id-7 div.sk-item::before, #sk-container-id-7 div.sk-parallel-item::before {content: \"\";position: absolute;border-left: 1px solid gray;box-sizing: border-box;top: 0;bottom: 0;left: 50%;z-index: -1;}#sk-container-id-7 div.sk-parallel-item {display: flex;flex-direction: column;z-index: 1;position: relative;background-color: white;}#sk-container-id-7 div.sk-parallel-item:first-child::after {align-self: flex-end;width: 50%;}#sk-container-id-7 div.sk-parallel-item:last-child::after {align-self: flex-start;width: 50%;}#sk-container-id-7 div.sk-parallel-item:only-child::after {width: 0;}#sk-container-id-7 div.sk-dashed-wrapped {border: 1px dashed gray;margin: 0 0.4em 0.5em 0.4em;box-sizing: border-box;padding-bottom: 0.4em;background-color: white;}#sk-container-id-7 div.sk-label label {font-family: monospace;font-weight: bold;display: inline-block;line-height: 1.2em;}#sk-container-id-7 div.sk-label-container {text-align: center;}#sk-container-id-7 div.sk-container {/* jupyter's `normalize.less` sets `[hidden] { display: none; }` but bootstrap.min.css set `[hidden] { display: none !important; }` so we also need the `!important` here to be able to override the default hidden behavior on the sphinx rendered scikit-learn.org. See: https://github.com/scikit-learn/scikit-learn/issues/21755 */display: inline-block !important;position: relative;}#sk-container-id-7 div.sk-text-repr-fallback {display: none;}</style><div id=\"sk-container-id-7\" class=\"sk-top-container\"><div class=\"sk-text-repr-fallback\"><pre>DecisionTreeClassifier(random_state=42)</pre><b>In a Jupyter environment, please rerun this cell to show the HTML representation or trust the notebook. <br />On GitHub, the HTML representation is unable to render, please try loading this page with nbviewer.org.</b></div><div class=\"sk-container\" hidden><div class=\"sk-item\"><div class=\"sk-estimator sk-toggleable\"><input class=\"sk-toggleable__control sk-hidden--visually\" id=\"sk-estimator-id-7\" type=\"checkbox\" checked><label for=\"sk-estimator-id-7\" class=\"sk-toggleable__label sk-toggleable__label-arrow\">DecisionTreeClassifier</label><div class=\"sk-toggleable__content\"><pre>DecisionTreeClassifier(random_state=42)</pre></div></div></div></div></div>"
            ]
          },
          "metadata": {},
          "execution_count": 119
        }
      ]
    },
    {
      "cell_type": "code",
      "source": [
        "# avaliar desempenho do modelo\n",
        "y_pred = clf.predict(X_test)\n",
        "\n",
        "accuracy = accuracy_score(y_test, y_pred)\n",
        "precision = precision_score(y_test, y_pred)\n",
        "recall = recall_score(y_test, y_pred)\n",
        "f1 = f1_score(y_test, y_pred)\n",
        "auc_roc = roc_auc_score(y_test, y_pred)"
      ],
      "metadata": {
        "id": "hKWacS-2sP9Q"
      },
      "execution_count": null,
      "outputs": []
    },
    {
      "cell_type": "code",
      "source": [
        "print(\"Acurácia:\", accuracy)\n",
        "print(\"Precisão:\", precision)\n",
        "print(\"Recall:\", recall)\n",
        "print(\"F1-score:\", f1)\n",
        "print(\"AUC-ROC:\", auc_roc)\n",
        "print(\"Matriz de Confusão:\")\n",
        "print(confusion_matrix(y_test, y_pred))"
      ],
      "metadata": {
        "colab": {
          "base_uri": "https://localhost:8080/"
        },
        "id": "BF3613PvsXLm",
        "outputId": "abf67ec9-108f-4091-ee6a-b825ce5cd9f8"
      },
      "execution_count": null,
      "outputs": [
        {
          "output_type": "stream",
          "name": "stdout",
          "text": [
            "Acurácia: 0.9308437067773168\n",
            "Precisão: 0.9480249480249481\n",
            "Recall: 0.9480249480249481\n",
            "F1-score: 0.9480249480249481\n",
            "AUC-ROC: 0.9223595814504907\n",
            "Matriz de Confusão:\n",
            "[[217  25]\n",
            " [ 25 456]]\n"
          ]
        }
      ]
    },
    {
      "cell_type": "code",
      "source": [
        "# 4- SVM"
      ],
      "metadata": {
        "id": "pxGEabGAsaxI"
      },
      "execution_count": null,
      "outputs": []
    },
    {
      "cell_type": "code",
      "source": [
        "from sklearn.svm import SVC"
      ],
      "metadata": {
        "id": "DunPfy85sdF-"
      },
      "execution_count": null,
      "outputs": []
    },
    {
      "cell_type": "code",
      "source": [
        "# dividir os dados em conjunto de treinamento e teste\n",
        "X = dados.drop(['Inconsistencia'], axis=1)\n",
        "y = dados['Inconsistencia']\n",
        "X_train, X_test, y_train, y_test = train_test_split(X, y, test_size=0.2, random_state=42)"
      ],
      "metadata": {
        "id": "S4bLopYQsgDH"
      },
      "execution_count": null,
      "outputs": []
    },
    {
      "cell_type": "code",
      "source": [
        "#selecionar modelo\n",
        "clf = SVC(random_state=42)\n",
        "\n",
        "#treinar modelo\n",
        "clf.fit(X_train, y_train)"
      ],
      "metadata": {
        "colab": {
          "base_uri": "https://localhost:8080/",
          "height": 74
        },
        "id": "-f8tP99ksmoU",
        "outputId": "0bf51a41-462e-4bd2-c53d-67e45ebc9e73"
      },
      "execution_count": null,
      "outputs": [
        {
          "output_type": "execute_result",
          "data": {
            "text/plain": [
              "SVC(random_state=42)"
            ],
            "text/html": [
              "<style>#sk-container-id-8 {color: black;background-color: white;}#sk-container-id-8 pre{padding: 0;}#sk-container-id-8 div.sk-toggleable {background-color: white;}#sk-container-id-8 label.sk-toggleable__label {cursor: pointer;display: block;width: 100%;margin-bottom: 0;padding: 0.3em;box-sizing: border-box;text-align: center;}#sk-container-id-8 label.sk-toggleable__label-arrow:before {content: \"▸\";float: left;margin-right: 0.25em;color: #696969;}#sk-container-id-8 label.sk-toggleable__label-arrow:hover:before {color: black;}#sk-container-id-8 div.sk-estimator:hover label.sk-toggleable__label-arrow:before {color: black;}#sk-container-id-8 div.sk-toggleable__content {max-height: 0;max-width: 0;overflow: hidden;text-align: left;background-color: #f0f8ff;}#sk-container-id-8 div.sk-toggleable__content pre {margin: 0.2em;color: black;border-radius: 0.25em;background-color: #f0f8ff;}#sk-container-id-8 input.sk-toggleable__control:checked~div.sk-toggleable__content {max-height: 200px;max-width: 100%;overflow: auto;}#sk-container-id-8 input.sk-toggleable__control:checked~label.sk-toggleable__label-arrow:before {content: \"▾\";}#sk-container-id-8 div.sk-estimator input.sk-toggleable__control:checked~label.sk-toggleable__label {background-color: #d4ebff;}#sk-container-id-8 div.sk-label input.sk-toggleable__control:checked~label.sk-toggleable__label {background-color: #d4ebff;}#sk-container-id-8 input.sk-hidden--visually {border: 0;clip: rect(1px 1px 1px 1px);clip: rect(1px, 1px, 1px, 1px);height: 1px;margin: -1px;overflow: hidden;padding: 0;position: absolute;width: 1px;}#sk-container-id-8 div.sk-estimator {font-family: monospace;background-color: #f0f8ff;border: 1px dotted black;border-radius: 0.25em;box-sizing: border-box;margin-bottom: 0.5em;}#sk-container-id-8 div.sk-estimator:hover {background-color: #d4ebff;}#sk-container-id-8 div.sk-parallel-item::after {content: \"\";width: 100%;border-bottom: 1px solid gray;flex-grow: 1;}#sk-container-id-8 div.sk-label:hover label.sk-toggleable__label {background-color: #d4ebff;}#sk-container-id-8 div.sk-serial::before {content: \"\";position: absolute;border-left: 1px solid gray;box-sizing: border-box;top: 0;bottom: 0;left: 50%;z-index: 0;}#sk-container-id-8 div.sk-serial {display: flex;flex-direction: column;align-items: center;background-color: white;padding-right: 0.2em;padding-left: 0.2em;position: relative;}#sk-container-id-8 div.sk-item {position: relative;z-index: 1;}#sk-container-id-8 div.sk-parallel {display: flex;align-items: stretch;justify-content: center;background-color: white;position: relative;}#sk-container-id-8 div.sk-item::before, #sk-container-id-8 div.sk-parallel-item::before {content: \"\";position: absolute;border-left: 1px solid gray;box-sizing: border-box;top: 0;bottom: 0;left: 50%;z-index: -1;}#sk-container-id-8 div.sk-parallel-item {display: flex;flex-direction: column;z-index: 1;position: relative;background-color: white;}#sk-container-id-8 div.sk-parallel-item:first-child::after {align-self: flex-end;width: 50%;}#sk-container-id-8 div.sk-parallel-item:last-child::after {align-self: flex-start;width: 50%;}#sk-container-id-8 div.sk-parallel-item:only-child::after {width: 0;}#sk-container-id-8 div.sk-dashed-wrapped {border: 1px dashed gray;margin: 0 0.4em 0.5em 0.4em;box-sizing: border-box;padding-bottom: 0.4em;background-color: white;}#sk-container-id-8 div.sk-label label {font-family: monospace;font-weight: bold;display: inline-block;line-height: 1.2em;}#sk-container-id-8 div.sk-label-container {text-align: center;}#sk-container-id-8 div.sk-container {/* jupyter's `normalize.less` sets `[hidden] { display: none; }` but bootstrap.min.css set `[hidden] { display: none !important; }` so we also need the `!important` here to be able to override the default hidden behavior on the sphinx rendered scikit-learn.org. See: https://github.com/scikit-learn/scikit-learn/issues/21755 */display: inline-block !important;position: relative;}#sk-container-id-8 div.sk-text-repr-fallback {display: none;}</style><div id=\"sk-container-id-8\" class=\"sk-top-container\"><div class=\"sk-text-repr-fallback\"><pre>SVC(random_state=42)</pre><b>In a Jupyter environment, please rerun this cell to show the HTML representation or trust the notebook. <br />On GitHub, the HTML representation is unable to render, please try loading this page with nbviewer.org.</b></div><div class=\"sk-container\" hidden><div class=\"sk-item\"><div class=\"sk-estimator sk-toggleable\"><input class=\"sk-toggleable__control sk-hidden--visually\" id=\"sk-estimator-id-8\" type=\"checkbox\" checked><label for=\"sk-estimator-id-8\" class=\"sk-toggleable__label sk-toggleable__label-arrow\">SVC</label><div class=\"sk-toggleable__content\"><pre>SVC(random_state=42)</pre></div></div></div></div></div>"
            ]
          },
          "metadata": {},
          "execution_count": 125
        }
      ]
    },
    {
      "cell_type": "code",
      "source": [
        "#avaliar desempenho do modelo\n",
        "y_pred = clf.predict(X_test)\n",
        "\n",
        "accuracy = accuracy_score(y_test, y_pred)\n",
        "precision = precision_score(y_test, y_pred)\n",
        "recall = recall_score(y_test, y_pred)\n",
        "f1 = f1_score(y_test, y_pred)\n",
        "auc_roc = roc_auc_score(y_test, y_pred)\n",
        "\n",
        "print(\"Acurácia:\", accuracy)\n",
        "print(\"Precisão:\", precision)\n",
        "print(\"Recall:\", recall)\n",
        "print(\"F1-score:\", f1)\n",
        "print(\"AUC-ROC:\", auc_roc)\n",
        "print(\"Matriz de Confusão:\")\n",
        "print(confusion_matrix(y_test, y_pred))"
      ],
      "metadata": {
        "colab": {
          "base_uri": "https://localhost:8080/"
        },
        "id": "qJBLy6EJsqZ1",
        "outputId": "f6a9a0db-fe4a-4f08-f2c3-20a35f469aba"
      },
      "execution_count": null,
      "outputs": [
        {
          "output_type": "stream",
          "name": "stdout",
          "text": [
            "Acurácia: 0.6929460580912863\n",
            "Precisão: 0.6852646638054364\n",
            "Recall: 0.9958419958419958\n",
            "F1-score: 0.811864406779661\n",
            "AUC-ROC: 0.5433755433755434\n",
            "Matriz de Confusão:\n",
            "[[ 22 220]\n",
            " [  2 479]]\n"
          ]
        }
      ]
    },
    {
      "cell_type": "code",
      "source": [
        "from sklearn.preprocessing import LabelEncoder, StandardScaler"
      ],
      "metadata": {
        "id": "CZ7muuUzszfo"
      },
      "execution_count": null,
      "outputs": []
    },
    {
      "cell_type": "code",
      "source": [
        "# Normalização dos dados\n",
        "scaler = StandardScaler()\n",
        "X_train = scaler.fit_transform(X_train)\n",
        "X_test = scaler.transform(X_test)"
      ],
      "metadata": {
        "id": "NNH689kgs23G"
      },
      "execution_count": null,
      "outputs": []
    },
    {
      "cell_type": "code",
      "source": [
        "# Treinamento e avaliação dos modelos com diferentes kernels\n",
        "for kernel in ['linear', 'poly', 'rbf', 'sigmoid']:\n",
        "    svm = SVC(kernel=kernel)\n",
        "    svm.fit(X_train, y_train)\n",
        "    accuracy = svm.score(X_test, y_test)\n",
        "    print(f'Kernel: {kernel}, Acurácia: {accuracy}')"
      ],
      "metadata": {
        "colab": {
          "base_uri": "https://localhost:8080/"
        },
        "id": "hOjL034us5eK",
        "outputId": "21dc3c64-fd02-4177-c56c-6c54d91fd884"
      },
      "execution_count": null,
      "outputs": [
        {
          "output_type": "stream",
          "name": "stdout",
          "text": [
            "Kernel: linear, Acurácia: 0.665283540802213\n",
            "Kernel: poly, Acurácia: 0.7012448132780082\n",
            "Kernel: rbf, Acurácia: 0.6929460580912863\n",
            "Kernel: sigmoid, Acurácia: 0.4979253112033195\n"
          ]
        }
      ]
    },
    {
      "cell_type": "code",
      "source": [
        "# deeeeeeeep (rede neural densa)"
      ],
      "metadata": {
        "id": "cjy3VaVZtAte"
      },
      "execution_count": null,
      "outputs": []
    },
    {
      "cell_type": "code",
      "source": [
        "#modelo de MLP (Perceptron Multicamadas) com duas camadas ocultas (dense layers) com \n",
        "#função de ativação ReLU e uma camada de saída com função de ativação sigmoid. \n",
        "#Ele foi construído com a biblioteca TensorFlow e treinado com os dados de treinamento usando o\n",
        "# otimizador 'adam', a função de perda 'binary_crossentropy' e a métrica de precisão (accuracy)."
      ],
      "metadata": {
        "id": "r0cW2wd1wWeM"
      },
      "execution_count": null,
      "outputs": []
    },
    {
      "cell_type": "code",
      "source": [
        "import tensorflow as tf"
      ],
      "metadata": {
        "id": "_2gBuZMztF0I"
      },
      "execution_count": null,
      "outputs": []
    },
    {
      "cell_type": "code",
      "source": [
        "# Dividir os dados em conjuntos de treinamento e teste\n",
        "train_data = dados.sample(frac=0.8, random_state=0)\n",
        "test_data = dados.drop(train_data.index)"
      ],
      "metadata": {
        "id": "fcaCeVy8tIHW"
      },
      "execution_count": null,
      "outputs": []
    },
    {
      "cell_type": "code",
      "source": [
        "# Definir o modelo de rede neural com tensorflow\n",
        "model = tf.keras.Sequential([\n",
        "  tf.keras.layers.Dense(64, activation='relu'),\n",
        "  tf.keras.layers.Dense(64, activation='relu'),\n",
        "  tf.keras.layers.Dense(1, activation='sigmoid')\n",
        "])\n",
        "\n",
        "model.compile(optimizer='adam',\n",
        "              loss='binary_crossentropy',\n",
        "              metrics=['accuracy'])\n"
      ],
      "metadata": {
        "id": "M8VGLvhttTDh"
      },
      "execution_count": null,
      "outputs": []
    },
    {
      "cell_type": "code",
      "source": [
        "# Treinar o modelo com os dados de treinamento\n",
        "train_labels = train_data.pop('Inconsistencia')\n",
        "test_labels = test_data.pop('Inconsistencia')\n",
        "\n",
        "history = model.fit(train_data, train_labels, epochs=100,\n",
        "                    validation_data=(test_data, test_labels))"
      ],
      "metadata": {
        "colab": {
          "base_uri": "https://localhost:8080/"
        },
        "id": "CzsKMct2tbaI",
        "outputId": "c7e727be-3f30-4c36-ffb0-a08a17404fb5"
      },
      "execution_count": null,
      "outputs": [
        {
          "output_type": "stream",
          "name": "stdout",
          "text": [
            "Epoch 1/100\n",
            "91/91 [==============================] - 1s 6ms/step - loss: 0.6144 - accuracy: 0.6779 - val_loss: 0.6160 - val_accuracy: 0.6787\n",
            "Epoch 2/100\n",
            "91/91 [==============================] - 0s 3ms/step - loss: 0.5910 - accuracy: 0.6907 - val_loss: 0.5727 - val_accuracy: 0.6967\n",
            "Epoch 3/100\n",
            "91/91 [==============================] - 0s 4ms/step - loss: 0.5683 - accuracy: 0.6986 - val_loss: 0.5434 - val_accuracy: 0.7091\n",
            "Epoch 4/100\n",
            "91/91 [==============================] - 1s 6ms/step - loss: 0.5475 - accuracy: 0.7107 - val_loss: 0.5267 - val_accuracy: 0.7341\n",
            "Epoch 5/100\n",
            "91/91 [==============================] - 0s 3ms/step - loss: 0.5274 - accuracy: 0.7239 - val_loss: 0.5146 - val_accuracy: 0.6981\n",
            "Epoch 6/100\n",
            "91/91 [==============================] - 0s 3ms/step - loss: 0.4996 - accuracy: 0.7332 - val_loss: 0.4827 - val_accuracy: 0.7396\n",
            "Epoch 7/100\n",
            "91/91 [==============================] - 0s 4ms/step - loss: 0.4838 - accuracy: 0.7467 - val_loss: 0.4736 - val_accuracy: 0.7078\n",
            "Epoch 8/100\n",
            "91/91 [==============================] - 1s 8ms/step - loss: 0.4684 - accuracy: 0.7633 - val_loss: 0.4482 - val_accuracy: 0.7548\n",
            "Epoch 9/100\n",
            "91/91 [==============================] - 0s 2ms/step - loss: 0.4511 - accuracy: 0.7744 - val_loss: 0.4662 - val_accuracy: 0.7479\n",
            "Epoch 10/100\n",
            "91/91 [==============================] - 0s 2ms/step - loss: 0.4437 - accuracy: 0.7768 - val_loss: 0.4370 - val_accuracy: 0.7867\n",
            "Epoch 11/100\n",
            "91/91 [==============================] - 0s 2ms/step - loss: 0.4320 - accuracy: 0.7869 - val_loss: 0.4239 - val_accuracy: 0.7839\n",
            "Epoch 12/100\n",
            "91/91 [==============================] - 0s 2ms/step - loss: 0.4176 - accuracy: 0.7869 - val_loss: 0.4086 - val_accuracy: 0.7881\n",
            "Epoch 13/100\n",
            "91/91 [==============================] - 0s 2ms/step - loss: 0.4065 - accuracy: 0.8035 - val_loss: 0.4380 - val_accuracy: 0.7521\n",
            "Epoch 14/100\n",
            "91/91 [==============================] - 0s 2ms/step - loss: 0.3995 - accuracy: 0.8087 - val_loss: 0.3866 - val_accuracy: 0.8006\n",
            "Epoch 15/100\n",
            "91/91 [==============================] - 0s 2ms/step - loss: 0.3848 - accuracy: 0.8190 - val_loss: 0.3884 - val_accuracy: 0.7964\n",
            "Epoch 16/100\n",
            "91/91 [==============================] - 0s 2ms/step - loss: 0.3782 - accuracy: 0.8149 - val_loss: 0.3842 - val_accuracy: 0.8158\n",
            "Epoch 17/100\n",
            "91/91 [==============================] - 0s 2ms/step - loss: 0.3747 - accuracy: 0.8228 - val_loss: 0.3728 - val_accuracy: 0.8158\n",
            "Epoch 18/100\n",
            "91/91 [==============================] - 0s 2ms/step - loss: 0.3706 - accuracy: 0.8215 - val_loss: 0.3696 - val_accuracy: 0.8102\n",
            "Epoch 19/100\n",
            "91/91 [==============================] - 0s 2ms/step - loss: 0.3606 - accuracy: 0.8263 - val_loss: 0.3709 - val_accuracy: 0.8186\n",
            "Epoch 20/100\n",
            "91/91 [==============================] - 0s 2ms/step - loss: 0.3611 - accuracy: 0.8315 - val_loss: 0.3517 - val_accuracy: 0.8324\n",
            "Epoch 21/100\n",
            "91/91 [==============================] - 0s 3ms/step - loss: 0.3505 - accuracy: 0.8315 - val_loss: 0.3525 - val_accuracy: 0.8283\n",
            "Epoch 22/100\n",
            "91/91 [==============================] - 0s 2ms/step - loss: 0.3434 - accuracy: 0.8363 - val_loss: 0.3507 - val_accuracy: 0.8380\n",
            "Epoch 23/100\n",
            "91/91 [==============================] - 0s 2ms/step - loss: 0.3453 - accuracy: 0.8363 - val_loss: 0.3415 - val_accuracy: 0.8435\n",
            "Epoch 24/100\n",
            "91/91 [==============================] - 0s 2ms/step - loss: 0.3366 - accuracy: 0.8377 - val_loss: 0.3407 - val_accuracy: 0.8352\n",
            "Epoch 25/100\n",
            "91/91 [==============================] - 0s 2ms/step - loss: 0.3356 - accuracy: 0.8471 - val_loss: 0.3418 - val_accuracy: 0.8490\n",
            "Epoch 26/100\n",
            "91/91 [==============================] - 0s 2ms/step - loss: 0.3269 - accuracy: 0.8478 - val_loss: 0.3453 - val_accuracy: 0.8366\n",
            "Epoch 27/100\n",
            "91/91 [==============================] - 0s 2ms/step - loss: 0.3300 - accuracy: 0.8422 - val_loss: 0.3302 - val_accuracy: 0.8476\n",
            "Epoch 28/100\n",
            "91/91 [==============================] - 0s 3ms/step - loss: 0.3192 - accuracy: 0.8505 - val_loss: 0.3422 - val_accuracy: 0.8352\n",
            "Epoch 29/100\n",
            "91/91 [==============================] - 0s 2ms/step - loss: 0.3173 - accuracy: 0.8516 - val_loss: 0.3406 - val_accuracy: 0.8366\n",
            "Epoch 30/100\n",
            "91/91 [==============================] - 0s 2ms/step - loss: 0.3110 - accuracy: 0.8668 - val_loss: 0.3224 - val_accuracy: 0.8504\n",
            "Epoch 31/100\n",
            "91/91 [==============================] - 0s 2ms/step - loss: 0.3134 - accuracy: 0.8526 - val_loss: 0.3389 - val_accuracy: 0.8463\n",
            "Epoch 32/100\n",
            "91/91 [==============================] - 0s 2ms/step - loss: 0.3012 - accuracy: 0.8685 - val_loss: 0.3211 - val_accuracy: 0.8587\n",
            "Epoch 33/100\n",
            "91/91 [==============================] - 0s 2ms/step - loss: 0.2978 - accuracy: 0.8661 - val_loss: 0.3160 - val_accuracy: 0.8560\n",
            "Epoch 34/100\n",
            "91/91 [==============================] - 0s 2ms/step - loss: 0.2917 - accuracy: 0.8706 - val_loss: 0.3198 - val_accuracy: 0.8532\n",
            "Epoch 35/100\n",
            "91/91 [==============================] - 0s 2ms/step - loss: 0.2916 - accuracy: 0.8706 - val_loss: 0.3107 - val_accuracy: 0.8587\n",
            "Epoch 36/100\n",
            "91/91 [==============================] - 0s 2ms/step - loss: 0.2822 - accuracy: 0.8820 - val_loss: 0.3162 - val_accuracy: 0.8573\n",
            "Epoch 37/100\n",
            "91/91 [==============================] - 0s 2ms/step - loss: 0.2763 - accuracy: 0.8830 - val_loss: 0.3162 - val_accuracy: 0.8490\n",
            "Epoch 38/100\n",
            "91/91 [==============================] - 0s 2ms/step - loss: 0.2771 - accuracy: 0.8734 - val_loss: 0.3065 - val_accuracy: 0.8546\n",
            "Epoch 39/100\n",
            "91/91 [==============================] - 0s 2ms/step - loss: 0.2725 - accuracy: 0.8824 - val_loss: 0.3111 - val_accuracy: 0.8629\n",
            "Epoch 40/100\n",
            "91/91 [==============================] - 0s 2ms/step - loss: 0.2675 - accuracy: 0.8813 - val_loss: 0.3231 - val_accuracy: 0.8380\n",
            "Epoch 41/100\n",
            "91/91 [==============================] - 0s 2ms/step - loss: 0.2632 - accuracy: 0.8858 - val_loss: 0.3104 - val_accuracy: 0.8532\n",
            "Epoch 42/100\n",
            "91/91 [==============================] - 0s 2ms/step - loss: 0.2527 - accuracy: 0.8955 - val_loss: 0.2973 - val_accuracy: 0.8670\n",
            "Epoch 43/100\n",
            "91/91 [==============================] - 0s 2ms/step - loss: 0.2522 - accuracy: 0.8941 - val_loss: 0.2980 - val_accuracy: 0.8560\n",
            "Epoch 44/100\n",
            "91/91 [==============================] - 0s 2ms/step - loss: 0.2560 - accuracy: 0.8851 - val_loss: 0.2975 - val_accuracy: 0.8587\n",
            "Epoch 45/100\n",
            "91/91 [==============================] - 0s 2ms/step - loss: 0.2431 - accuracy: 0.8993 - val_loss: 0.2925 - val_accuracy: 0.8601\n",
            "Epoch 46/100\n",
            "91/91 [==============================] - 0s 2ms/step - loss: 0.2419 - accuracy: 0.8976 - val_loss: 0.2886 - val_accuracy: 0.8657\n",
            "Epoch 47/100\n",
            "91/91 [==============================] - 0s 2ms/step - loss: 0.2370 - accuracy: 0.8969 - val_loss: 0.2791 - val_accuracy: 0.8643\n",
            "Epoch 48/100\n",
            "91/91 [==============================] - 0s 2ms/step - loss: 0.2344 - accuracy: 0.8962 - val_loss: 0.2804 - val_accuracy: 0.8601\n",
            "Epoch 49/100\n",
            "91/91 [==============================] - 0s 2ms/step - loss: 0.2341 - accuracy: 0.8976 - val_loss: 0.2750 - val_accuracy: 0.8726\n",
            "Epoch 50/100\n",
            "91/91 [==============================] - 0s 2ms/step - loss: 0.2260 - accuracy: 0.9055 - val_loss: 0.2762 - val_accuracy: 0.8643\n",
            "Epoch 51/100\n",
            "91/91 [==============================] - 0s 2ms/step - loss: 0.2292 - accuracy: 0.8983 - val_loss: 0.3085 - val_accuracy: 0.8546\n",
            "Epoch 52/100\n",
            "91/91 [==============================] - 0s 2ms/step - loss: 0.2188 - accuracy: 0.9038 - val_loss: 0.2721 - val_accuracy: 0.8698\n",
            "Epoch 53/100\n",
            "91/91 [==============================] - 0s 2ms/step - loss: 0.2138 - accuracy: 0.9080 - val_loss: 0.2796 - val_accuracy: 0.8657\n",
            "Epoch 54/100\n",
            "91/91 [==============================] - 0s 2ms/step - loss: 0.2092 - accuracy: 0.9104 - val_loss: 0.2696 - val_accuracy: 0.8698\n",
            "Epoch 55/100\n",
            "91/91 [==============================] - 0s 2ms/step - loss: 0.2149 - accuracy: 0.9055 - val_loss: 0.2807 - val_accuracy: 0.8657\n",
            "Epoch 56/100\n",
            "91/91 [==============================] - 0s 2ms/step - loss: 0.2087 - accuracy: 0.9149 - val_loss: 0.2856 - val_accuracy: 0.8684\n",
            "Epoch 57/100\n",
            "91/91 [==============================] - 0s 2ms/step - loss: 0.2068 - accuracy: 0.9107 - val_loss: 0.2797 - val_accuracy: 0.8684\n",
            "Epoch 58/100\n",
            "91/91 [==============================] - 0s 2ms/step - loss: 0.2024 - accuracy: 0.9131 - val_loss: 0.2738 - val_accuracy: 0.8684\n",
            "Epoch 59/100\n",
            "91/91 [==============================] - 0s 2ms/step - loss: 0.1960 - accuracy: 0.9208 - val_loss: 0.2939 - val_accuracy: 0.8518\n",
            "Epoch 60/100\n",
            "91/91 [==============================] - 0s 2ms/step - loss: 0.1951 - accuracy: 0.9149 - val_loss: 0.2833 - val_accuracy: 0.8615\n",
            "Epoch 61/100\n",
            "91/91 [==============================] - 0s 2ms/step - loss: 0.1889 - accuracy: 0.9194 - val_loss: 0.2654 - val_accuracy: 0.8726\n",
            "Epoch 62/100\n",
            "91/91 [==============================] - 0s 2ms/step - loss: 0.1868 - accuracy: 0.9211 - val_loss: 0.2789 - val_accuracy: 0.8712\n",
            "Epoch 63/100\n",
            "91/91 [==============================] - 0s 2ms/step - loss: 0.1912 - accuracy: 0.9187 - val_loss: 0.2691 - val_accuracy: 0.8712\n",
            "Epoch 64/100\n",
            "91/91 [==============================] - 0s 2ms/step - loss: 0.1887 - accuracy: 0.9183 - val_loss: 0.2619 - val_accuracy: 0.8643\n",
            "Epoch 65/100\n",
            "91/91 [==============================] - 0s 2ms/step - loss: 0.1813 - accuracy: 0.9183 - val_loss: 0.2616 - val_accuracy: 0.8712\n",
            "Epoch 66/100\n",
            "91/91 [==============================] - 0s 2ms/step - loss: 0.1748 - accuracy: 0.9263 - val_loss: 0.2949 - val_accuracy: 0.8657\n",
            "Epoch 67/100\n",
            "91/91 [==============================] - 0s 2ms/step - loss: 0.1806 - accuracy: 0.9235 - val_loss: 0.2617 - val_accuracy: 0.8726\n",
            "Epoch 68/100\n",
            "91/91 [==============================] - 0s 2ms/step - loss: 0.1777 - accuracy: 0.9194 - val_loss: 0.2652 - val_accuracy: 0.8698\n",
            "Epoch 69/100\n",
            "91/91 [==============================] - 0s 1ms/step - loss: 0.1783 - accuracy: 0.9201 - val_loss: 0.2638 - val_accuracy: 0.8643\n",
            "Epoch 70/100\n",
            "91/91 [==============================] - 0s 2ms/step - loss: 0.1654 - accuracy: 0.9336 - val_loss: 0.2537 - val_accuracy: 0.8795\n",
            "Epoch 71/100\n",
            "91/91 [==============================] - 0s 2ms/step - loss: 0.1665 - accuracy: 0.9266 - val_loss: 0.2673 - val_accuracy: 0.8670\n",
            "Epoch 72/100\n",
            "91/91 [==============================] - 0s 2ms/step - loss: 0.1629 - accuracy: 0.9346 - val_loss: 0.2870 - val_accuracy: 0.8601\n",
            "Epoch 73/100\n",
            "91/91 [==============================] - 0s 2ms/step - loss: 0.1667 - accuracy: 0.9239 - val_loss: 0.2597 - val_accuracy: 0.8712\n",
            "Epoch 74/100\n",
            "91/91 [==============================] - 0s 2ms/step - loss: 0.1582 - accuracy: 0.9308 - val_loss: 0.2822 - val_accuracy: 0.8601\n",
            "Epoch 75/100\n",
            "91/91 [==============================] - 0s 1ms/step - loss: 0.1557 - accuracy: 0.9343 - val_loss: 0.2957 - val_accuracy: 0.8601\n",
            "Epoch 76/100\n",
            "91/91 [==============================] - 0s 2ms/step - loss: 0.1542 - accuracy: 0.9304 - val_loss: 0.2708 - val_accuracy: 0.8781\n",
            "Epoch 77/100\n",
            "91/91 [==============================] - 0s 2ms/step - loss: 0.1504 - accuracy: 0.9325 - val_loss: 0.2655 - val_accuracy: 0.8809\n",
            "Epoch 78/100\n",
            "91/91 [==============================] - 0s 2ms/step - loss: 0.1550 - accuracy: 0.9291 - val_loss: 0.2655 - val_accuracy: 0.8781\n",
            "Epoch 79/100\n",
            "91/91 [==============================] - 0s 2ms/step - loss: 0.1488 - accuracy: 0.9325 - val_loss: 0.2572 - val_accuracy: 0.8712\n",
            "Epoch 80/100\n",
            "91/91 [==============================] - 0s 2ms/step - loss: 0.1525 - accuracy: 0.9336 - val_loss: 0.2541 - val_accuracy: 0.8781\n",
            "Epoch 81/100\n",
            "91/91 [==============================] - 0s 2ms/step - loss: 0.1511 - accuracy: 0.9332 - val_loss: 0.2608 - val_accuracy: 0.8823\n",
            "Epoch 82/100\n",
            "91/91 [==============================] - 0s 2ms/step - loss: 0.1492 - accuracy: 0.9329 - val_loss: 0.2600 - val_accuracy: 0.8795\n",
            "Epoch 83/100\n",
            "91/91 [==============================] - 0s 2ms/step - loss: 0.1471 - accuracy: 0.9356 - val_loss: 0.2779 - val_accuracy: 0.8657\n",
            "Epoch 84/100\n",
            "91/91 [==============================] - 0s 2ms/step - loss: 0.1398 - accuracy: 0.9453 - val_loss: 0.2530 - val_accuracy: 0.8809\n",
            "Epoch 85/100\n",
            "91/91 [==============================] - 0s 2ms/step - loss: 0.1362 - accuracy: 0.9450 - val_loss: 0.2531 - val_accuracy: 0.8809\n",
            "Epoch 86/100\n",
            "91/91 [==============================] - 0s 2ms/step - loss: 0.1359 - accuracy: 0.9384 - val_loss: 0.2902 - val_accuracy: 0.8781\n",
            "Epoch 87/100\n",
            "91/91 [==============================] - 0s 2ms/step - loss: 0.1356 - accuracy: 0.9388 - val_loss: 0.2636 - val_accuracy: 0.8767\n",
            "Epoch 88/100\n",
            "91/91 [==============================] - 0s 2ms/step - loss: 0.1368 - accuracy: 0.9374 - val_loss: 0.2763 - val_accuracy: 0.8712\n",
            "Epoch 89/100\n",
            "91/91 [==============================] - 0s 3ms/step - loss: 0.1309 - accuracy: 0.9439 - val_loss: 0.2510 - val_accuracy: 0.8795\n",
            "Epoch 90/100\n",
            "91/91 [==============================] - 0s 2ms/step - loss: 0.1359 - accuracy: 0.9426 - val_loss: 0.2551 - val_accuracy: 0.8795\n",
            "Epoch 91/100\n",
            "91/91 [==============================] - 0s 2ms/step - loss: 0.1361 - accuracy: 0.9363 - val_loss: 0.2881 - val_accuracy: 0.8864\n",
            "Epoch 92/100\n",
            "91/91 [==============================] - 0s 2ms/step - loss: 0.1320 - accuracy: 0.9464 - val_loss: 0.2567 - val_accuracy: 0.8864\n",
            "Epoch 93/100\n",
            "91/91 [==============================] - 0s 2ms/step - loss: 0.1242 - accuracy: 0.9457 - val_loss: 0.2548 - val_accuracy: 0.8795\n",
            "Epoch 94/100\n",
            "91/91 [==============================] - 0s 3ms/step - loss: 0.1293 - accuracy: 0.9464 - val_loss: 0.2806 - val_accuracy: 0.8601\n",
            "Epoch 95/100\n",
            "91/91 [==============================] - 0s 3ms/step - loss: 0.1278 - accuracy: 0.9433 - val_loss: 0.2642 - val_accuracy: 0.8809\n",
            "Epoch 96/100\n",
            "91/91 [==============================] - 0s 2ms/step - loss: 0.1236 - accuracy: 0.9443 - val_loss: 0.2416 - val_accuracy: 0.8823\n",
            "Epoch 97/100\n",
            "91/91 [==============================] - 0s 2ms/step - loss: 0.1218 - accuracy: 0.9505 - val_loss: 0.2678 - val_accuracy: 0.8809\n",
            "Epoch 98/100\n",
            "91/91 [==============================] - 0s 2ms/step - loss: 0.1148 - accuracy: 0.9529 - val_loss: 0.2786 - val_accuracy: 0.8781\n",
            "Epoch 99/100\n",
            "91/91 [==============================] - 0s 2ms/step - loss: 0.1183 - accuracy: 0.9481 - val_loss: 0.2673 - val_accuracy: 0.8684\n",
            "Epoch 100/100\n",
            "91/91 [==============================] - 0s 2ms/step - loss: 0.1201 - accuracy: 0.9498 - val_loss: 0.2685 - val_accuracy: 0.8809\n"
          ]
        }
      ]
    },
    {
      "cell_type": "markdown",
      "source": [
        "Esses resultados mostram o desempenho do modelo de rede neural treinado em cada época (epoch) durante o processo de treinamento. O modelo foi treinado por 100 épocas. O treinamento foi feito com 91 amostras por lote (batch), com um tamanho de lote (batch size) padrão de 32 amostras.\n",
        "\n",
        "A cada época, a perda (loss) e a precisão (accuracy) são calculadas para o conjunto de treinamento e para o conjunto de validação (val_loss e val_accuracy).\n",
        "\n",
        "No final do treinamento, a precisão (accuracy) do modelo nos dados de treinamento é de 94,98%, o que significa que o modelo classificou corretamente 94,98% das amostras do conjunto de treinamento. A precisão do modelo nos dados de validação (val_accuracy) é de 88,09%, o que significa que o modelo classificou corretamente 88,09% das amostras do conjunto de validação.\n",
        "\n",
        "A perda (loss) é um indicador de quão bem o modelo está ajustando os dados de treinamento. Uma perda baixa indica que o modelo está ajustando bem os dados de treinamento. No final do treinamento, a perda do modelo nos dados de treinamento é de 0,1201 e a perda do modelo nos dados de validação é de 0,2685."
      ],
      "metadata": {
        "id": "-Zisw_haxOkz"
      }
    },
    {
      "cell_type": "code",
      "source": [],
      "metadata": {
        "id": "PSJQVh1lxN9Z"
      },
      "execution_count": null,
      "outputs": []
    },
    {
      "cell_type": "code",
      "source": [
        "dados.head()\n"
      ],
      "metadata": {
        "colab": {
          "base_uri": "https://localhost:8080/",
          "height": 299
        },
        "id": "n3oNJTfYviyk",
        "outputId": "76afcf9b-08bd-4bbd-ff27-d8c8a33c66c3"
      },
      "execution_count": null,
      "outputs": [
        {
          "output_type": "execute_result",
          "data": {
            "text/plain": [
              "       Valor  Inconsistencia  QTDCRIT  QTDpergelicit  Canal_AF3  Canal_AF4  \\\n",
              "0  -5.667372               1        4              6          1          0   \n",
              "1   2.725819               1        4              6          0          0   \n",
              "2  -5.568859               1        4              6          0          0   \n",
              "3  -5.534017               1        4              6          0          0   \n",
              "4 -13.066733               1        4              6          0          0   \n",
              "\n",
              "   Canal_F3  Canal_F4  Canal_F7  Canal_F8  ...  Banda_A  Etapa_1  Etapa_2  \\\n",
              "0         0         0         0         0  ...        1        0        0   \n",
              "1         0         0         1         0  ...        1        0        0   \n",
              "2         1         0         0         0  ...        1        0        0   \n",
              "3         0         0         0         0  ...        1        0        0   \n",
              "4         0         0         0         0  ...        1        0        0   \n",
              "\n",
              "   Etapa_3  Etapa_4  Etapa_5  Etapa_6  NATcrit_C  NATcrit_CN  NATcrit_N  \n",
              "0        0        0        0        1          0           1          0  \n",
              "1        0        0        0        1          0           1          0  \n",
              "2        0        0        0        1          0           1          0  \n",
              "3        0        0        0        1          0           1          0  \n",
              "4        0        0        0        1          0           1          0  \n",
              "\n",
              "[5 rows x 28 columns]"
            ],
            "text/html": [
              "\n",
              "  <div id=\"df-b54225c3-41a0-4a13-a583-42ab65640177\">\n",
              "    <div class=\"colab-df-container\">\n",
              "      <div>\n",
              "<style scoped>\n",
              "    .dataframe tbody tr th:only-of-type {\n",
              "        vertical-align: middle;\n",
              "    }\n",
              "\n",
              "    .dataframe tbody tr th {\n",
              "        vertical-align: top;\n",
              "    }\n",
              "\n",
              "    .dataframe thead th {\n",
              "        text-align: right;\n",
              "    }\n",
              "</style>\n",
              "<table border=\"1\" class=\"dataframe\">\n",
              "  <thead>\n",
              "    <tr style=\"text-align: right;\">\n",
              "      <th></th>\n",
              "      <th>Valor</th>\n",
              "      <th>Inconsistencia</th>\n",
              "      <th>QTDCRIT</th>\n",
              "      <th>QTDpergelicit</th>\n",
              "      <th>Canal_AF3</th>\n",
              "      <th>Canal_AF4</th>\n",
              "      <th>Canal_F3</th>\n",
              "      <th>Canal_F4</th>\n",
              "      <th>Canal_F7</th>\n",
              "      <th>Canal_F8</th>\n",
              "      <th>...</th>\n",
              "      <th>Banda_A</th>\n",
              "      <th>Etapa_1</th>\n",
              "      <th>Etapa_2</th>\n",
              "      <th>Etapa_3</th>\n",
              "      <th>Etapa_4</th>\n",
              "      <th>Etapa_5</th>\n",
              "      <th>Etapa_6</th>\n",
              "      <th>NATcrit_C</th>\n",
              "      <th>NATcrit_CN</th>\n",
              "      <th>NATcrit_N</th>\n",
              "    </tr>\n",
              "  </thead>\n",
              "  <tbody>\n",
              "    <tr>\n",
              "      <th>0</th>\n",
              "      <td>-5.667372</td>\n",
              "      <td>1</td>\n",
              "      <td>4</td>\n",
              "      <td>6</td>\n",
              "      <td>1</td>\n",
              "      <td>0</td>\n",
              "      <td>0</td>\n",
              "      <td>0</td>\n",
              "      <td>0</td>\n",
              "      <td>0</td>\n",
              "      <td>...</td>\n",
              "      <td>1</td>\n",
              "      <td>0</td>\n",
              "      <td>0</td>\n",
              "      <td>0</td>\n",
              "      <td>0</td>\n",
              "      <td>0</td>\n",
              "      <td>1</td>\n",
              "      <td>0</td>\n",
              "      <td>1</td>\n",
              "      <td>0</td>\n",
              "    </tr>\n",
              "    <tr>\n",
              "      <th>1</th>\n",
              "      <td>2.725819</td>\n",
              "      <td>1</td>\n",
              "      <td>4</td>\n",
              "      <td>6</td>\n",
              "      <td>0</td>\n",
              "      <td>0</td>\n",
              "      <td>0</td>\n",
              "      <td>0</td>\n",
              "      <td>1</td>\n",
              "      <td>0</td>\n",
              "      <td>...</td>\n",
              "      <td>1</td>\n",
              "      <td>0</td>\n",
              "      <td>0</td>\n",
              "      <td>0</td>\n",
              "      <td>0</td>\n",
              "      <td>0</td>\n",
              "      <td>1</td>\n",
              "      <td>0</td>\n",
              "      <td>1</td>\n",
              "      <td>0</td>\n",
              "    </tr>\n",
              "    <tr>\n",
              "      <th>2</th>\n",
              "      <td>-5.568859</td>\n",
              "      <td>1</td>\n",
              "      <td>4</td>\n",
              "      <td>6</td>\n",
              "      <td>0</td>\n",
              "      <td>0</td>\n",
              "      <td>1</td>\n",
              "      <td>0</td>\n",
              "      <td>0</td>\n",
              "      <td>0</td>\n",
              "      <td>...</td>\n",
              "      <td>1</td>\n",
              "      <td>0</td>\n",
              "      <td>0</td>\n",
              "      <td>0</td>\n",
              "      <td>0</td>\n",
              "      <td>0</td>\n",
              "      <td>1</td>\n",
              "      <td>0</td>\n",
              "      <td>1</td>\n",
              "      <td>0</td>\n",
              "    </tr>\n",
              "    <tr>\n",
              "      <th>3</th>\n",
              "      <td>-5.534017</td>\n",
              "      <td>1</td>\n",
              "      <td>4</td>\n",
              "      <td>6</td>\n",
              "      <td>0</td>\n",
              "      <td>0</td>\n",
              "      <td>0</td>\n",
              "      <td>0</td>\n",
              "      <td>0</td>\n",
              "      <td>0</td>\n",
              "      <td>...</td>\n",
              "      <td>1</td>\n",
              "      <td>0</td>\n",
              "      <td>0</td>\n",
              "      <td>0</td>\n",
              "      <td>0</td>\n",
              "      <td>0</td>\n",
              "      <td>1</td>\n",
              "      <td>0</td>\n",
              "      <td>1</td>\n",
              "      <td>0</td>\n",
              "    </tr>\n",
              "    <tr>\n",
              "      <th>4</th>\n",
              "      <td>-13.066733</td>\n",
              "      <td>1</td>\n",
              "      <td>4</td>\n",
              "      <td>6</td>\n",
              "      <td>0</td>\n",
              "      <td>0</td>\n",
              "      <td>0</td>\n",
              "      <td>0</td>\n",
              "      <td>0</td>\n",
              "      <td>0</td>\n",
              "      <td>...</td>\n",
              "      <td>1</td>\n",
              "      <td>0</td>\n",
              "      <td>0</td>\n",
              "      <td>0</td>\n",
              "      <td>0</td>\n",
              "      <td>0</td>\n",
              "      <td>1</td>\n",
              "      <td>0</td>\n",
              "      <td>1</td>\n",
              "      <td>0</td>\n",
              "    </tr>\n",
              "  </tbody>\n",
              "</table>\n",
              "<p>5 rows × 28 columns</p>\n",
              "</div>\n",
              "      <button class=\"colab-df-convert\" onclick=\"convertToInteractive('df-b54225c3-41a0-4a13-a583-42ab65640177')\"\n",
              "              title=\"Convert this dataframe to an interactive table.\"\n",
              "              style=\"display:none;\">\n",
              "        \n",
              "  <svg xmlns=\"http://www.w3.org/2000/svg\" height=\"24px\"viewBox=\"0 0 24 24\"\n",
              "       width=\"24px\">\n",
              "    <path d=\"M0 0h24v24H0V0z\" fill=\"none\"/>\n",
              "    <path d=\"M18.56 5.44l.94 2.06.94-2.06 2.06-.94-2.06-.94-.94-2.06-.94 2.06-2.06.94zm-11 1L8.5 8.5l.94-2.06 2.06-.94-2.06-.94L8.5 2.5l-.94 2.06-2.06.94zm10 10l.94 2.06.94-2.06 2.06-.94-2.06-.94-.94-2.06-.94 2.06-2.06.94z\"/><path d=\"M17.41 7.96l-1.37-1.37c-.4-.4-.92-.59-1.43-.59-.52 0-1.04.2-1.43.59L10.3 9.45l-7.72 7.72c-.78.78-.78 2.05 0 2.83L4 21.41c.39.39.9.59 1.41.59.51 0 1.02-.2 1.41-.59l7.78-7.78 2.81-2.81c.8-.78.8-2.07 0-2.86zM5.41 20L4 18.59l7.72-7.72 1.47 1.35L5.41 20z\"/>\n",
              "  </svg>\n",
              "      </button>\n",
              "      \n",
              "  <style>\n",
              "    .colab-df-container {\n",
              "      display:flex;\n",
              "      flex-wrap:wrap;\n",
              "      gap: 12px;\n",
              "    }\n",
              "\n",
              "    .colab-df-convert {\n",
              "      background-color: #E8F0FE;\n",
              "      border: none;\n",
              "      border-radius: 50%;\n",
              "      cursor: pointer;\n",
              "      display: none;\n",
              "      fill: #1967D2;\n",
              "      height: 32px;\n",
              "      padding: 0 0 0 0;\n",
              "      width: 32px;\n",
              "    }\n",
              "\n",
              "    .colab-df-convert:hover {\n",
              "      background-color: #E2EBFA;\n",
              "      box-shadow: 0px 1px 2px rgba(60, 64, 67, 0.3), 0px 1px 3px 1px rgba(60, 64, 67, 0.15);\n",
              "      fill: #174EA6;\n",
              "    }\n",
              "\n",
              "    [theme=dark] .colab-df-convert {\n",
              "      background-color: #3B4455;\n",
              "      fill: #D2E3FC;\n",
              "    }\n",
              "\n",
              "    [theme=dark] .colab-df-convert:hover {\n",
              "      background-color: #434B5C;\n",
              "      box-shadow: 0px 1px 3px 1px rgba(0, 0, 0, 0.15);\n",
              "      filter: drop-shadow(0px 1px 2px rgba(0, 0, 0, 0.3));\n",
              "      fill: #FFFFFF;\n",
              "    }\n",
              "  </style>\n",
              "\n",
              "      <script>\n",
              "        const buttonEl =\n",
              "          document.querySelector('#df-b54225c3-41a0-4a13-a583-42ab65640177 button.colab-df-convert');\n",
              "        buttonEl.style.display =\n",
              "          google.colab.kernel.accessAllowed ? 'block' : 'none';\n",
              "\n",
              "        async function convertToInteractive(key) {\n",
              "          const element = document.querySelector('#df-b54225c3-41a0-4a13-a583-42ab65640177');\n",
              "          const dataTable =\n",
              "            await google.colab.kernel.invokeFunction('convertToInteractive',\n",
              "                                                     [key], {});\n",
              "          if (!dataTable) return;\n",
              "\n",
              "          const docLinkHtml = 'Like what you see? Visit the ' +\n",
              "            '<a target=\"_blank\" href=https://colab.research.google.com/notebooks/data_table.ipynb>data table notebook</a>'\n",
              "            + ' to learn more about interactive tables.';\n",
              "          element.innerHTML = '';\n",
              "          dataTable['output_type'] = 'display_data';\n",
              "          await google.colab.output.renderOutput(dataTable, element);\n",
              "          const docLink = document.createElement('div');\n",
              "          docLink.innerHTML = docLinkHtml;\n",
              "          element.appendChild(docLink);\n",
              "        }\n",
              "      </script>\n",
              "    </div>\n",
              "  </div>\n",
              "  "
            ]
          },
          "metadata": {},
          "execution_count": 141
        }
      ]
    }
  ]
}